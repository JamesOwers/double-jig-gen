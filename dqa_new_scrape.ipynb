{
 "cells": [
  {
   "cell_type": "code",
   "execution_count": 73,
   "id": "c017dcde-f6d7-4490-9c7d-d7c5cb603407",
   "metadata": {},
   "outputs": [],
   "source": [
    "from pathlib import Path\n",
    "\n",
    "import pandas as pd\n",
    "from tqdm.notebook import tqdm"
   ]
  },
  {
   "cell_type": "code",
   "execution_count": 74,
   "id": "b38f7bc0-10a9-4f42-8bd5-1aea5afee51c",
   "metadata": {},
   "outputs": [],
   "source": [
    "path = Path(\"data\", \"derived\", \"thesession.org\", \"all_tunes.abc\")"
   ]
  },
  {
   "cell_type": "code",
   "execution_count": 75,
   "id": "39c92823-781a-460a-a492-71e45c3a168b",
   "metadata": {
    "tags": []
   },
   "outputs": [],
   "source": [
    "tune_numbers = [\n",
    "    int(abc_file.stem)\n",
    "    for abc_file in [\n",
    "        filepath for filepath in path.iterdir() if filepath.suffix == \".abc\"\n",
    "    ]\n",
    "]"
   ]
  },
  {
   "cell_type": "code",
   "execution_count": 76,
   "id": "afcd82b5-4412-499f-88fe-8918b03bf25e",
   "metadata": {},
   "outputs": [
    {
     "data": {
      "text/plain": [
       "19037"
      ]
     },
     "execution_count": 76,
     "metadata": {},
     "output_type": "execute_result"
    }
   ],
   "source": [
    "len(tune_numbers)"
   ]
  },
  {
   "cell_type": "code",
   "execution_count": 77,
   "id": "2a4bc0ae-3756-4687-8630-7227be36a887",
   "metadata": {},
   "outputs": [
    {
     "data": {
      "text/plain": [
       "20903"
      ]
     },
     "execution_count": 77,
     "metadata": {},
     "output_type": "execute_result"
    }
   ],
   "source": [
    "max(tune_numbers)"
   ]
  },
  {
   "cell_type": "code",
   "execution_count": 78,
   "id": "3678259a-adf1-47df-90b6-03ec865ef78b",
   "metadata": {},
   "outputs": [
    {
     "data": {
      "text/plain": [
       "1867"
      ]
     },
     "execution_count": 78,
     "metadata": {},
     "output_type": "execute_result"
    }
   ],
   "source": [
    "missing_tunes = set(range(max(tune_numbers))).difference(tune_numbers)\n",
    "len(missing_tunes)"
   ]
  },
  {
   "cell_type": "code",
   "execution_count": 79,
   "id": "b2633368-0cfa-46fa-86e4-49466a69d45c",
   "metadata": {},
   "outputs": [
    {
     "data": {
      "application/vnd.jupyter.widget-view+json": {
       "model_id": "7da4b1ad582a40369fbd58d89e9506f9",
       "version_major": 2,
       "version_minor": 0
      },
      "text/plain": [
       "  0%|          | 0/19037 [00:00<?, ?it/s]"
      ]
     },
     "metadata": {},
     "output_type": "display_data"
    }
   ],
   "source": [
    "abc_tunes = {}\n",
    "issue_tunes = {}\n",
    "for abc_file in tqdm([filepath for filepath in path.iterdir() if filepath.suffix == \".abc\"]):\n",
    "    tune_number = int(abc_file.stem)\n",
    "    with open(abc_file, \"r\") as fh:\n",
    "        file_content = fh.read().strip()\n",
    "        if file_content.startswith(\"<\"):\n",
    "            issue_tunes[tune_number] = file_content\n",
    "        else:\n",
    "            tunes = {\n",
    "                (tune_number, setting_number + 1): tune.strip()\n",
    "                for setting_number, tune\n",
    "                in enumerate(file_content.split(\"\\n\\n\"))\n",
    "            }\n",
    "    abc_tunes.update(tunes)"
   ]
  },
  {
   "cell_type": "code",
   "execution_count": 80,
   "id": "ba927eef-a43c-4345-af18-aa2c9d2444ee",
   "metadata": {},
   "outputs": [
    {
     "data": {
      "text/plain": [
       "0"
      ]
     },
     "execution_count": 80,
     "metadata": {},
     "output_type": "execute_result"
    }
   ],
   "source": [
    "len(issue_tunes)"
   ]
  },
  {
   "cell_type": "code",
   "execution_count": 82,
   "id": "52856cd1-61ab-4f13-9ef5-abbb96c79179",
   "metadata": {},
   "outputs": [],
   "source": [
    "tunes_df = pd.DataFrame(\n",
    "    abc_tunes.values(),\n",
    "    index=pd.MultiIndex.from_tuples(\n",
    "        abc_tunes.keys(), names=[\"tune_number\", \"setting_number\"]\n",
    "    ),\n",
    "    columns=[\"tune_str\"],\n",
    ")"
   ]
  },
  {
   "cell_type": "code",
   "execution_count": 83,
   "id": "3b3f0927-b97d-43a8-9cd3-80ea41f0b70c",
   "metadata": {},
   "outputs": [
    {
     "data": {
      "text/html": [
       "<div>\n",
       "<style scoped>\n",
       "    .dataframe tbody tr th:only-of-type {\n",
       "        vertical-align: middle;\n",
       "    }\n",
       "\n",
       "    .dataframe tbody tr th {\n",
       "        vertical-align: top;\n",
       "    }\n",
       "\n",
       "    .dataframe thead th {\n",
       "        text-align: right;\n",
       "    }\n",
       "</style>\n",
       "<table border=\"1\" class=\"dataframe\">\n",
       "  <thead>\n",
       "    <tr style=\"text-align: right;\">\n",
       "      <th></th>\n",
       "      <th></th>\n",
       "      <th>tune_str</th>\n",
       "    </tr>\n",
       "    <tr>\n",
       "      <th>tune_number</th>\n",
       "      <th>setting_number</th>\n",
       "      <th></th>\n",
       "    </tr>\n",
       "  </thead>\n",
       "  <tbody>\n",
       "    <tr>\n",
       "      <th>7623</th>\n",
       "      <th>3</th>\n",
       "      <td>X: 3\\nT: Gone Fishing\\nZ: Valbu\\nS: https://th...</td>\n",
       "    </tr>\n",
       "  </tbody>\n",
       "</table>\n",
       "</div>"
      ],
      "text/plain": [
       "                                                                     tune_str\n",
       "tune_number setting_number                                                   \n",
       "7623        3               X: 3\\nT: Gone Fishing\\nZ: Valbu\\nS: https://th..."
      ]
     },
     "metadata": {},
     "output_type": "display_data"
    },
    {
     "name": "stdout",
     "output_type": "stream",
     "text": [
      "X: 3\n",
      "T: Gone Fishing\n",
      "Z: Valbu\n",
      "S: https://thesession.org/tunes/7623#setting37178\n",
      "R: reel\n",
      "M: 4/4\n",
      "L: 1/8\n",
      "K: Emin\n",
      "|:\"Em\"E2BA GAB^d|edBA GAFG|EB (3BBB ABfg-|\"Am\"gf^dB ABGF|\n",
      "\"Em\"E2(3BBB ABF2|GFGB AEF2|\"C\"zBAF GFGB|1 \"B\"A/2B/2A/2z/2^DE FGAB:|2 A/2B/2A/2z/2^DE FGAB-||\n",
      "|:\"Em\"~B2AB cBAc|~B2AB GAF2|zBAB cBAB|\"B\"geBG (3EFG F2|\n",
      "\"Em\"~B2AB cAB2|zGF2 G2A2|\"A\"BE (3EEE BAGF-|\"B\"FGAB G/2A/2G/2z/2 E2:|\n"
     ]
    },
    {
     "data": {
      "text/html": [
       "<div>\n",
       "<style scoped>\n",
       "    .dataframe tbody tr th:only-of-type {\n",
       "        vertical-align: middle;\n",
       "    }\n",
       "\n",
       "    .dataframe tbody tr th {\n",
       "        vertical-align: top;\n",
       "    }\n",
       "\n",
       "    .dataframe thead th {\n",
       "        text-align: right;\n",
       "    }\n",
       "</style>\n",
       "<table border=\"1\" class=\"dataframe\">\n",
       "  <thead>\n",
       "    <tr style=\"text-align: right;\">\n",
       "      <th></th>\n",
       "      <th></th>\n",
       "      <th>tune_str</th>\n",
       "    </tr>\n",
       "    <tr>\n",
       "      <th>tune_number</th>\n",
       "      <th>setting_number</th>\n",
       "      <th></th>\n",
       "    </tr>\n",
       "  </thead>\n",
       "  <tbody>\n",
       "    <tr>\n",
       "      <th>2772</th>\n",
       "      <th>5</th>\n",
       "      <td>X: 5\\nT: Ballyhoura Mountains, The\\nZ: ceolach...</td>\n",
       "    </tr>\n",
       "  </tbody>\n",
       "</table>\n",
       "</div>"
      ],
      "text/plain": [
       "                                                                     tune_str\n",
       "tune_number setting_number                                                   \n",
       "2772        5               X: 5\\nT: Ballyhoura Mountains, The\\nZ: ceolach..."
      ]
     },
     "metadata": {},
     "output_type": "display_data"
    },
    {
     "name": "stdout",
     "output_type": "stream",
     "text": [
      "X: 5\n",
      "T: Ballyhoura Mountains, The\n",
      "Z: ceolachan\n",
      "S: https://thesession.org/tunes/2772#setting16400\n",
      "R: polka\n",
      "M: 2/4\n",
      "L: 1/8\n",
      "K: Gmaj\n",
      "|: B2 AG | EG D2 | B2 AG | A/B/c d2 |\n",
      "B2 AG | EG D2 | B2 dB | AG G2 :|\n",
      "|: ge ge | dB AG | ge ge | A/B/c d2 |\n",
      "ge ge | dB AG | B2 dB | AG G2 :|\n"
     ]
    },
    {
     "data": {
      "text/html": [
       "<div>\n",
       "<style scoped>\n",
       "    .dataframe tbody tr th:only-of-type {\n",
       "        vertical-align: middle;\n",
       "    }\n",
       "\n",
       "    .dataframe tbody tr th {\n",
       "        vertical-align: top;\n",
       "    }\n",
       "\n",
       "    .dataframe thead th {\n",
       "        text-align: right;\n",
       "    }\n",
       "</style>\n",
       "<table border=\"1\" class=\"dataframe\">\n",
       "  <thead>\n",
       "    <tr style=\"text-align: right;\">\n",
       "      <th></th>\n",
       "      <th></th>\n",
       "      <th>tune_str</th>\n",
       "    </tr>\n",
       "    <tr>\n",
       "      <th>tune_number</th>\n",
       "      <th>setting_number</th>\n",
       "      <th></th>\n",
       "    </tr>\n",
       "  </thead>\n",
       "  <tbody>\n",
       "    <tr>\n",
       "      <th>14673</th>\n",
       "      <th>1</th>\n",
       "      <td>X: 1\\nT: Lastringe Storpolska\\nZ: Javi V\\nS: h...</td>\n",
       "    </tr>\n",
       "  </tbody>\n",
       "</table>\n",
       "</div>"
      ],
      "text/plain": [
       "                                                                     tune_str\n",
       "tune_number setting_number                                                   \n",
       "14673       1               X: 1\\nT: Lastringe Storpolska\\nZ: Javi V\\nS: h..."
      ]
     },
     "metadata": {},
     "output_type": "display_data"
    },
    {
     "name": "stdout",
     "output_type": "stream",
     "text": [
      "X: 1\n",
      "T: Lastringe Storpolska\n",
      "Z: Javi V\n",
      "S: https://thesession.org/tunes/14673#setting27077\n",
      "R: mazurka\n",
      "M: 3/4\n",
      "L: 1/8\n",
      "K: Dmaj\n",
      "A2F2 DFAF DFAF| DGBG DGBG DGBG|\n",
      "A2F2 DFAF DFAF| F2EE E2E2 E3E |\n",
      "A2F2 DFAF DFAF| DGBG DGBG DGBG|\n",
      "ABcd e2f2 g2e2| dcBc e2d2 d3d:|\n",
      "A2d2 f2a2 bafa| g2b2 b2g2 ageg|\n",
      "f2a2 a2fa f2ed| cdef g2eg f2df|\n",
      "egec d2AG F2A2|\n",
      "A2d2 f2a2 bafa| g2b2 b2g2 ageg|\n",
      "f2a2 a2fa f2ed| cdef g2eg f2df|\n",
      "|1 egec e2dc d3d :|2 egec e2dc d4 |]\n",
      "P:Voice 2\n",
      "F2D2 A,DFD A,DFD| B,DGD B,DGD B,DGD|\n",
      "F2D2 A,DFD A,DFD| F2EE E2C2 A,4|\n",
      "F2D2 A,DFD A,DFD| B,DGD B,DGD B,DGD|\n",
      "EFGA B2A2 c2A2| GFEF G2F2 F3F:|\n",
      "F2A2 d2d2 fdAd| B2g2 g2d2 edBG|\n",
      "F2A2 d2Ad d2AF| ABcd e2ce d2Ad|\n",
      "cecA F2DA, D2F2|\n",
      "F2A2 d2d2 fdAd| B2g2 g2d2 edBG|\n",
      "F2A2 d2Ad d2AF| ABcd e2ce d2BA |\n",
      "|1 cecA G2FE [F3A3][FA] :|2 cecA G2FE [F4A4] |]\n"
     ]
    },
    {
     "data": {
      "text/html": [
       "<div>\n",
       "<style scoped>\n",
       "    .dataframe tbody tr th:only-of-type {\n",
       "        vertical-align: middle;\n",
       "    }\n",
       "\n",
       "    .dataframe tbody tr th {\n",
       "        vertical-align: top;\n",
       "    }\n",
       "\n",
       "    .dataframe thead th {\n",
       "        text-align: right;\n",
       "    }\n",
       "</style>\n",
       "<table border=\"1\" class=\"dataframe\">\n",
       "  <thead>\n",
       "    <tr style=\"text-align: right;\">\n",
       "      <th></th>\n",
       "      <th></th>\n",
       "      <th>tune_str</th>\n",
       "    </tr>\n",
       "    <tr>\n",
       "      <th>tune_number</th>\n",
       "      <th>setting_number</th>\n",
       "      <th></th>\n",
       "    </tr>\n",
       "  </thead>\n",
       "  <tbody>\n",
       "    <tr>\n",
       "      <th>2240</th>\n",
       "      <th>2</th>\n",
       "      <td>X: 2\\nT: Touch Of Gaelic\\nZ: Nigel Gatherer\\nS...</td>\n",
       "    </tr>\n",
       "  </tbody>\n",
       "</table>\n",
       "</div>"
      ],
      "text/plain": [
       "                                                                     tune_str\n",
       "tune_number setting_number                                                   \n",
       "2240        2               X: 2\\nT: Touch Of Gaelic\\nZ: Nigel Gatherer\\nS..."
      ]
     },
     "metadata": {},
     "output_type": "display_data"
    },
    {
     "name": "stdout",
     "output_type": "stream",
     "text": [
      "X: 2\n",
      "T: Touch Of Gaelic\n",
      "Z: Nigel Gatherer\n",
      "S: https://thesession.org/tunes/2240#setting21609\n",
      "R: waltz\n",
      "M: 3/4\n",
      "L: 1/8\n",
      "K: Gmaj\n",
      "B2 c2 | d6 | B4 A2 | A2 G4 | A4 B2 | D4 D2 | E3 D E2 |G6- | G2\n",
      "B2 c2 | d6 | B4 A2 | A2 G4 | A4 B2 | D4 D2 | E3 D E2 |G6- | G4 ||\n",
      "D2 | G4 G2 | c4 d2 | e6 | d4 de | d6 | B2 A2 G2 | c6 |d4 e2 |\n",
      "B2 d4 | B4 A2 | A2 G4 | A4 B2 |D4 D2 | E3 D E2 | G6- | G2 |]\n"
     ]
    },
    {
     "data": {
      "text/html": [
       "<div>\n",
       "<style scoped>\n",
       "    .dataframe tbody tr th:only-of-type {\n",
       "        vertical-align: middle;\n",
       "    }\n",
       "\n",
       "    .dataframe tbody tr th {\n",
       "        vertical-align: top;\n",
       "    }\n",
       "\n",
       "    .dataframe thead th {\n",
       "        text-align: right;\n",
       "    }\n",
       "</style>\n",
       "<table border=\"1\" class=\"dataframe\">\n",
       "  <thead>\n",
       "    <tr style=\"text-align: right;\">\n",
       "      <th></th>\n",
       "      <th></th>\n",
       "      <th>tune_str</th>\n",
       "    </tr>\n",
       "    <tr>\n",
       "      <th>tune_number</th>\n",
       "      <th>setting_number</th>\n",
       "      <th></th>\n",
       "    </tr>\n",
       "  </thead>\n",
       "  <tbody>\n",
       "    <tr>\n",
       "      <th>2223</th>\n",
       "      <th>5</th>\n",
       "      <td>X: 5\\nT: Da Auld Resting Chair\\nZ: Richard D C...</td>\n",
       "    </tr>\n",
       "  </tbody>\n",
       "</table>\n",
       "</div>"
      ],
      "text/plain": [
       "                                                                     tune_str\n",
       "tune_number setting_number                                                   \n",
       "2223        5               X: 5\\nT: Da Auld Resting Chair\\nZ: Richard D C..."
      ]
     },
     "metadata": {},
     "output_type": "display_data"
    },
    {
     "name": "stdout",
     "output_type": "stream",
     "text": [
      "X: 5\n",
      "T: Da Auld Resting Chair\n",
      "Z: Richard D Cook\n",
      "S: https://thesession.org/tunes/2223#setting37557\n",
      "R: barndance\n",
      "M: 4/4\n",
      "L: 1/8\n",
      "K: Dmaj\n",
      "|: A2 | f3 g e3 f | d2 A2 f2 d2| g2 e2 f2 d2 | GB ed c2 A2 |\n",
      "f3 g e3 f | d2 A2 f2 d2| G2 e2 A2 c2 | d6 :||\n",
      "a2| gfed d3 A | B2 d2 A2 f2 | g3 a f2 d2 | B2 ed c2 A2 |\n",
      "gfed d3 A | B2 d2 A2 f2 | G2 AB A2 c2 | d6 a2 |\n",
      "gfed d3 A | B2 d2 A2 f2 | g3 a f2 d2 | GB ed c2 A2 |\n",
      "f3 g e3 f | d2 A2 f2 d2| G2 e2 A2 c2 | d8 ||\n"
     ]
    },
    {
     "data": {
      "text/html": [
       "<div>\n",
       "<style scoped>\n",
       "    .dataframe tbody tr th:only-of-type {\n",
       "        vertical-align: middle;\n",
       "    }\n",
       "\n",
       "    .dataframe tbody tr th {\n",
       "        vertical-align: top;\n",
       "    }\n",
       "\n",
       "    .dataframe thead th {\n",
       "        text-align: right;\n",
       "    }\n",
       "</style>\n",
       "<table border=\"1\" class=\"dataframe\">\n",
       "  <thead>\n",
       "    <tr style=\"text-align: right;\">\n",
       "      <th></th>\n",
       "      <th></th>\n",
       "      <th>tune_str</th>\n",
       "    </tr>\n",
       "    <tr>\n",
       "      <th>tune_number</th>\n",
       "      <th>setting_number</th>\n",
       "      <th></th>\n",
       "    </tr>\n",
       "  </thead>\n",
       "  <tbody>\n",
       "    <tr>\n",
       "      <th>9300</th>\n",
       "      <th>1</th>\n",
       "      <td>X: 1\\nT: Highland President\\nZ: AngusF\\nS: htt...</td>\n",
       "    </tr>\n",
       "  </tbody>\n",
       "</table>\n",
       "</div>"
      ],
      "text/plain": [
       "                                                                     tune_str\n",
       "tune_number setting_number                                                   \n",
       "9300        1               X: 1\\nT: Highland President\\nZ: AngusF\\nS: htt..."
      ]
     },
     "metadata": {},
     "output_type": "display_data"
    },
    {
     "name": "stdout",
     "output_type": "stream",
     "text": [
      "X: 1\n",
      "T: Highland President\n",
      "Z: AngusF\n",
      "S: https://thesession.org/tunes/9300#setting9300\n",
      "R: strathspey\n",
      "M: 4/4\n",
      "L: 1/8\n",
      "K: Gmin\n",
      "F|D/G3/2G3/2F/ G3/2A/ Bc/B/|A/F3/2c/F3/2 d/F3/2 d/c/B/A/|\n",
      "G/D3/2D3/2C/ B,3/2A,/ G,d/c/|c/B/A/G/ B/A/G/^F/ G2 G,3/2=F/|\n",
      "D/G3/2G3/2F/ G3/2A/ Bc/B/|A/F3/2c/F3/2 d/F3/2 d/c/B/A/|\n",
      "G/A/B/G/ A/B/c/A/ B/c/d/B/ c/d/e/g/|^f/d/c/d/ B/c/ A/B/ {F}~G2 G,||\n",
      "B|G/g3/2g3/2d/ B3/2d/ Gg/a/|b/g/d/g/ B/d/G/B/ D/G/B,/D/ G,/B,/D/G/|\n",
      "F/f3/2f3/2c/ A3/2c/ Ff/g/|a/f/c/f/ A/c/F/A/ C/F/ A,/C/ F/A/c/f/|\n",
      "G/g3/2g3/2d/4c/4 B/d3/2G3/2A/4G/4|F/f3/2f3/2c/4B/4 A/c3/2F3/2B/4A/4|\n",
      "G/A/B/G/ A/B/c/A/ B/c/d/B/ c/d/e/g/|^f/d/c/d/ B/c/ A/B/ {F}~G2 G,||\n"
     ]
    },
    {
     "data": {
      "text/html": [
       "<div>\n",
       "<style scoped>\n",
       "    .dataframe tbody tr th:only-of-type {\n",
       "        vertical-align: middle;\n",
       "    }\n",
       "\n",
       "    .dataframe tbody tr th {\n",
       "        vertical-align: top;\n",
       "    }\n",
       "\n",
       "    .dataframe thead th {\n",
       "        text-align: right;\n",
       "    }\n",
       "</style>\n",
       "<table border=\"1\" class=\"dataframe\">\n",
       "  <thead>\n",
       "    <tr style=\"text-align: right;\">\n",
       "      <th></th>\n",
       "      <th></th>\n",
       "      <th>tune_str</th>\n",
       "    </tr>\n",
       "    <tr>\n",
       "      <th>tune_number</th>\n",
       "      <th>setting_number</th>\n",
       "      <th></th>\n",
       "    </tr>\n",
       "  </thead>\n",
       "  <tbody>\n",
       "    <tr>\n",
       "      <th>112</th>\n",
       "      <th>10</th>\n",
       "      <td>X: 10\\nT: Trip To Pakistan, The\\nZ: Damien Rog...</td>\n",
       "    </tr>\n",
       "  </tbody>\n",
       "</table>\n",
       "</div>"
      ],
      "text/plain": [
       "                                                                     tune_str\n",
       "tune_number setting_number                                                   \n",
       "112         10              X: 10\\nT: Trip To Pakistan, The\\nZ: Damien Rog..."
      ]
     },
     "metadata": {},
     "output_type": "display_data"
    },
    {
     "name": "stdout",
     "output_type": "stream",
     "text": [
      "X: 10\n",
      "T: Trip To Pakistan, The\n",
      "Z: Damien Rogeau\n",
      "S: https://thesession.org/tunes/112#setting30705\n",
      "R: reel\n",
      "M: 4/4\n",
      "L: 1/8\n",
      "K: Bmin\n",
      "|: BdfB d3 f | e2ed cdec | BdfB d3 f | edcd B2BA:|\n",
      "|: BdfB g3 e | ~f3 a fefd|BdfB g3 e |fedf ~e3d :|\n",
      "|: cdfc dfcd | BcdB cdcB | AceA ceAc | edcd ~B3A :|\n"
     ]
    },
    {
     "data": {
      "text/html": [
       "<div>\n",
       "<style scoped>\n",
       "    .dataframe tbody tr th:only-of-type {\n",
       "        vertical-align: middle;\n",
       "    }\n",
       "\n",
       "    .dataframe tbody tr th {\n",
       "        vertical-align: top;\n",
       "    }\n",
       "\n",
       "    .dataframe thead th {\n",
       "        text-align: right;\n",
       "    }\n",
       "</style>\n",
       "<table border=\"1\" class=\"dataframe\">\n",
       "  <thead>\n",
       "    <tr style=\"text-align: right;\">\n",
       "      <th></th>\n",
       "      <th></th>\n",
       "      <th>tune_str</th>\n",
       "    </tr>\n",
       "    <tr>\n",
       "      <th>tune_number</th>\n",
       "      <th>setting_number</th>\n",
       "      <th></th>\n",
       "    </tr>\n",
       "  </thead>\n",
       "  <tbody>\n",
       "    <tr>\n",
       "      <th>18426</th>\n",
       "      <th>13</th>\n",
       "      <td>X: 13\\nT: O'Sullivan's March\\nR: jig\\nM: 6/8\\n...</td>\n",
       "    </tr>\n",
       "  </tbody>\n",
       "</table>\n",
       "</div>"
      ],
      "text/plain": [
       "                                                                     tune_str\n",
       "tune_number setting_number                                                   \n",
       "18426       13              X: 13\\nT: O'Sullivan's March\\nR: jig\\nM: 6/8\\n..."
      ]
     },
     "metadata": {},
     "output_type": "display_data"
    },
    {
     "name": "stdout",
     "output_type": "stream",
     "text": [
      "X: 13\n",
      "T: O'Sullivan's March\n",
      "R: jig\n",
      "M: 6/8\n",
      "L: 1/8\n",
      "K: Gmaj\n",
      "\"G\"DBA ABd | edB A2D | GBA B2G | \"D\"AGE GFE |\n",
      "\"G\"DBA ABd | edB A2D | GBA B2G |1 \"D\"AGF G3:|2 \"D\"AGF Gdg ||\n",
      "|: \"C\"e3 edg | e3 edB | \"G\"d3 dBd | edB BAG |\n",
      "\"C\"c3 dcd | edB A2D | \"D\"GBA B2G |1 AGF Gdg :|2 \"D\"AGF \"G\"G3 ||\n"
     ]
    },
    {
     "data": {
      "text/html": [
       "<div>\n",
       "<style scoped>\n",
       "    .dataframe tbody tr th:only-of-type {\n",
       "        vertical-align: middle;\n",
       "    }\n",
       "\n",
       "    .dataframe tbody tr th {\n",
       "        vertical-align: top;\n",
       "    }\n",
       "\n",
       "    .dataframe thead th {\n",
       "        text-align: right;\n",
       "    }\n",
       "</style>\n",
       "<table border=\"1\" class=\"dataframe\">\n",
       "  <thead>\n",
       "    <tr style=\"text-align: right;\">\n",
       "      <th></th>\n",
       "      <th></th>\n",
       "      <th>tune_str</th>\n",
       "    </tr>\n",
       "    <tr>\n",
       "      <th>tune_number</th>\n",
       "      <th>setting_number</th>\n",
       "      <th></th>\n",
       "    </tr>\n",
       "  </thead>\n",
       "  <tbody>\n",
       "    <tr>\n",
       "      <th>11934</th>\n",
       "      <th>1</th>\n",
       "      <td>X: 1\\nT: Burnt Cabbage, The\\nZ: slainte\\nS: ht...</td>\n",
       "    </tr>\n",
       "  </tbody>\n",
       "</table>\n",
       "</div>"
      ],
      "text/plain": [
       "                                                                     tune_str\n",
       "tune_number setting_number                                                   \n",
       "11934       1               X: 1\\nT: Burnt Cabbage, The\\nZ: slainte\\nS: ht..."
      ]
     },
     "metadata": {},
     "output_type": "display_data"
    },
    {
     "name": "stdout",
     "output_type": "stream",
     "text": [
      "X: 1\n",
      "T: Burnt Cabbage, The\n",
      "Z: slainte\n",
      "S: https://thesession.org/tunes/11934#setting11934\n",
      "R: reel\n",
      "M: 4/4\n",
      "L: 1/8\n",
      "K: Edor\n",
      "|:BE~E2 BAFA|BFAF DEFA|BE~E2 BAFA|1 Bcdf e2dc:|2 Bcdf e3d||\n",
      "Bdef gfeg|fdad bdad|Bdef gfeg|fedf e3d|\n",
      "Bdef gfeg|fddc dfaf|g2bg f2ef|dBAF EFGA||\n"
     ]
    },
    {
     "data": {
      "text/html": [
       "<div>\n",
       "<style scoped>\n",
       "    .dataframe tbody tr th:only-of-type {\n",
       "        vertical-align: middle;\n",
       "    }\n",
       "\n",
       "    .dataframe tbody tr th {\n",
       "        vertical-align: top;\n",
       "    }\n",
       "\n",
       "    .dataframe thead th {\n",
       "        text-align: right;\n",
       "    }\n",
       "</style>\n",
       "<table border=\"1\" class=\"dataframe\">\n",
       "  <thead>\n",
       "    <tr style=\"text-align: right;\">\n",
       "      <th></th>\n",
       "      <th></th>\n",
       "      <th>tune_str</th>\n",
       "    </tr>\n",
       "    <tr>\n",
       "      <th>tune_number</th>\n",
       "      <th>setting_number</th>\n",
       "      <th></th>\n",
       "    </tr>\n",
       "  </thead>\n",
       "  <tbody>\n",
       "    <tr>\n",
       "      <th>13104</th>\n",
       "      <th>1</th>\n",
       "      <td>X: 1\\nT: Upon A Sunday Morning When Spring Was...</td>\n",
       "    </tr>\n",
       "  </tbody>\n",
       "</table>\n",
       "</div>"
      ],
      "text/plain": [
       "                                                                     tune_str\n",
       "tune_number setting_number                                                   \n",
       "13104       1               X: 1\\nT: Upon A Sunday Morning When Spring Was..."
      ]
     },
     "metadata": {},
     "output_type": "display_data"
    },
    {
     "name": "stdout",
     "output_type": "stream",
     "text": [
      "X: 1\n",
      "T: Upon A Sunday Morning When Spring Was In Its Prime\n",
      "Z: manxygirl\n",
      "S: https://thesession.org/tunes/13104#setting22557\n",
      "R: jig\n",
      "M: 6/8\n",
      "L: 1/8\n",
      "K: Gmaj\n",
      "d | G2G e2c | d2c A2F | D2G G2F | G3G2d |\n",
      "d2B d2f | g2g f2d | e2e f2d | B3B2d |\n",
      "d2B d2f | g2g f2d | e2e f2d | B3B2d |\n",
      "G2G e2c | d2c A2F | D2G G2F | G3G2 ||\n"
     ]
    }
   ],
   "source": [
    "for _ in range(10):\n",
    "    sample_tune = tunes_df.sample()\n",
    "    display(sample_tune)\n",
    "    print(sample_tune[\"tune_str\"].squeeze())"
   ]
  },
  {
   "cell_type": "code",
   "execution_count": 86,
   "id": "9de28f4f-056d-4f9d-847d-0ec1cc231ff3",
   "metadata": {},
   "outputs": [
    {
     "name": "stdout",
     "output_type": "stream",
     "text": [
      "setting_number\n",
      "1    X: 1\\nT: Hundred Pipers\\nR: jig\\nM: 6/8\\nL: 1/...\n",
      "2    X: 2\\nT: Hundred Pipers\\nR: jig\\nM: 6/8\\nL: 1/...\n",
      "3    X: 3\\nT: Hundred Pipers\\nR: jig\\nM: 6/8\\nL: 1/...\n",
      "4    X: 4\\nT: Hundred Pipers\\nR: jig\\nM: 6/8\\nL: 1/...\n",
      "5    X: 5\\nT: Hundred Pipers\\nR: jig\\nM: 6/8\\nL: 1/...\n",
      "6    X: 6\\nT: Hundred Pipers\\nR: jig\\nM: 6/8\\nL: 1/...\n",
      "Name: tune_str, dtype: object\n"
     ]
    }
   ],
   "source": [
    "print(tunes_df.loc[19114, \"tune_str\"])"
   ]
  },
  {
   "cell_type": "code",
   "execution_count": 87,
   "id": "9bb0e7c9-a5d0-46ad-9e30-36952133246e",
   "metadata": {},
   "outputs": [
    {
     "name": "stdout",
     "output_type": "stream",
     "text": [
      "X: 1\n",
      "T: Hundred Pipers\n",
      "R: jig\n",
      "M: 6/8\n",
      "L: 1/8\n",
      "K: Amaj\n",
      "|:c2E EFE|F2A A2f|e2c cBA|BcB BAB|\n",
      "c2E EFE|F2A A2f|e2c BcB|1 A3 A2B:|2 A3 c2d||\n",
      "|:e2e ece|f2a agf|e2c cBA|BcB Bcd|\n",
      "e2e ece|f2a agf|e2c BcB|A3 A2B:||\n"
     ]
    }
   ],
   "source": [
    "print(tunes_df.loc[(19114, 1), \"tune_str\"])"
   ]
  },
  {
   "cell_type": "code",
   "execution_count": null,
   "id": "9cbdd30a-29a6-4479-8258-75b52532c162",
   "metadata": {},
   "outputs": [],
   "source": [
    "tunes_df.Path"
   ]
  },
  {
   "cell_type": "code",
   "execution_count": 89,
   "id": "beaaadb0-a6f3-430d-b7a3-c750c5f0cab7",
   "metadata": {},
   "outputs": [],
   "source": [
    "#!/usr/bin/env python\n",
    "\"\"\"Script to tokenise abc data.\"\"\"\n",
    "import logging\n",
    "import os\n",
    "from functools import partial\n",
    "from pathlib import Path\n",
    "from typing import Optional\n",
    "\n",
    "import fire\n",
    "import pandas as pd\n",
    "from tqdm import tqdm as std_tqdm\n",
    "\n",
    "from double_jig_gen.data import (\n",
    "    TOKEN_SEPARATOR,\n",
    "    clean_and_standardise_token,\n",
    "    fix_encoding_errors,\n",
    "    remove_quoted_strings,\n",
    ")\n",
    "from double_jig_gen.tokenizers import ABCTune, ABCTuneError\n",
    "\n",
    "logging.basicConfig()\n",
    "LOGGER = logging.getLogger(__name__)\n",
    "# https://github.com/tqdm/tqdm/issues/370\n",
    "tqdm = partial(std_tqdm, dynamic_ncols=True)\n",
    "\n",
    "\n",
    "def clean_tune_str(tune_str):\n",
    "    return fix_encoding_errors(remove_quoted_strings(tune_str))\n",
    "\n",
    "\n",
    "def get_abc_tune(abc_data):\n",
    "    try:\n",
    "        abc_tune = ABCTune(\n",
    "            abc_data,\n",
    "            # pianoroll_divisions_per_quarternote=12,\n",
    "            # min_pitch=0,\n",
    "            # min_time=0,\n",
    "            # transpose_to_pitchclass=\"C\",\n",
    "        )\n",
    "    except ABCTuneError as e:\n",
    "        msg = (\n",
    "            f\"Not including the following tune:\\n{abc_data}\\n\"\n",
    "            f\"It raised an error when parsing with ABCTune(): {e}.\"\n",
    "        )\n",
    "        LOGGER.warning(msg)\n",
    "        abc_tune = msg\n",
    "    except Exception as e:\n",
    "        msg = (\n",
    "            f\"Not including the following tune:\\n{abc_data}\\n\"\n",
    "            f\"It raised an unhandled error: {e}.\"\n",
    "        )\n",
    "        LOGGER.warning(msg)\n",
    "        abc_tune = msg\n",
    "    return abc_tune\n",
    "\n",
    "\n",
    "DATA_PATH = \"data/raw/folk-rnn/data_v1\"\n",
    "OUTPUT_PATH = \"data/working/folk-rnn/clean-folk-rnn.txt\"\n",
    "\n",
    "\n",
    "def main(\n",
    "    data_path: str = DATA_PATH,\n",
    "    output_path: str = OUTPUT_PATH,\n",
    "    token_separator: str = TOKEN_SEPARATOR,\n",
    "    nr_tunes: Optional[int] = None,\n",
    "    # TODO: reduce this number to zero and clean duff tokens manually (it's currently )\n",
    "    # partially used to get count = 1 tokens which are just crap (i.e. music21 parse\n",
    "    # errors) but there are many legitimate count = 1 tokens e.g. chords, accents, etc.\n",
    "    minimum_token_frequency: Optional[int] = 2,\n",
    "    log_level: Optional[str] = None,\n",
    "):\n",
    "    if log_level is not None:\n",
    "        LOGGER.setLevel(log_level)\n",
    "    LOGGER.info(\n",
    "        f\"Tokenizing data from {data_path} and writing to {output_path} using token \"\n",
    "        f\"separator {token_separator}\"\n",
    "    )\n",
    "    output_dir = Path(output_path).parent\n",
    "    if not output_dir.exists():\n",
    "        LOGGER.warning(f\"Creating output directory {output_dir}\")\n",
    "        output_dir.mkdir(parents=True, exist_ok=False)\n",
    "    with open(data_path, \"r\") as fh:\n",
    "        raw_folkrnn_data = fh.read()\n",
    "    abc_data_list = [tune_str.strip() for tune_str in raw_folkrnn_data.split(\"\\n\\n\")]\n",
    "    orig_nr_tunes = len(abc_data_list)\n",
    "    LOGGER.info(f\"Read {orig_nr_tunes} tunes from {data_path}\")\n",
    "\n",
    "    if nr_tunes is not None:\n",
    "        LOGGER.info(f\"Restricting read to first {nr_tunes} tunes...\")\n",
    "        abc_data_list = abc_data_list[:nr_tunes]\n",
    "    else:\n",
    "        nr_tunes = len(abc_data_list)\n",
    "\n",
    "    token_separator_in_tune = [\n",
    "        token_separator in \"\".join(tune) for tune in abc_data_list\n",
    "    ]\n",
    "    if any(token_separator_in_tune):\n",
    "        LOGGER.error(\n",
    "            f\"Can't use token separator {token_separator} because it is contained \"\n",
    "            f\"within {sum(token_separator_in_tune)} tunes.\"\n",
    "        )\n",
    "        tunes_with_token_separator = [\n",
    "            tune for ii, tune in enumerate(abc_data_list) if token_separator_in_tune[ii]\n",
    "        ]\n",
    "        tunes_with_token_separator = \"\\n\\n\".join(tunes_with_token_separator)\n",
    "        raise ValueError(\n",
    "            f\"The token separator {token_separator} is contained within the following \"\n",
    "            f\"tunes:\\n\\n{tunes_with_token_separator}\"\n",
    "        )\n",
    "\n",
    "    LOGGER.info(\"Checking for duplicate tunes\")\n",
    "    seen_tunes = set()\n",
    "    abc_data_with_source_idx = []\n",
    "    for source_idx, tune in enumerate(abc_data_list):\n",
    "        if tune not in seen_tunes:\n",
    "            abc_data_with_source_idx.append((source_idx, tune))\n",
    "            seen_tunes.add(tune)\n",
    "    dedup_nr_tunes = len(abc_data_with_source_idx)\n",
    "    nr_duplicate_tunes = nr_tunes - dedup_nr_tunes\n",
    "    LOGGER.info(\n",
    "        f\"Removed {nr_duplicate_tunes} identical tunes, we now have {dedup_nr_tunes}\"\n",
    "    )\n",
    "\n",
    "    LOGGER.info(\n",
    "        \"Cleaning the text strings representing the tunes e.g. fixing encoding errors \"\n",
    "        \"and removing double quoted text comments.\"\n",
    "    )\n",
    "    clean_abc_data = [\n",
    "        (source_idx, clean_tune_str(tune_str))\n",
    "        for source_idx, tune_str in tqdm(\n",
    "            abc_data_with_source_idx, desc=\"cleaning tunes\"\n",
    "        )\n",
    "    ]\n",
    "\n",
    "    # TODO: profile this\n",
    "    LOGGER.info(\"Splitting into tokens using music21 (drop tunes which cant be parsed)\")\n",
    "    tunes = [\n",
    "        (source_idx, get_abc_tune(abc_data))\n",
    "        for source_idx, abc_data in tqdm(clean_abc_data, desc=\"parsing with music21\")\n",
    "    ]\n",
    "    clean_tunes = [\n",
    "        (source_idx, tune) for source_idx, tune in tunes if not isinstance(tune, str)\n",
    "    ]\n",
    "\n",
    "    LOGGER.info(\"Cleaning individual tokens\")\n",
    "    tunes_as_token_lists = [\n",
    "        (\n",
    "            source_idx,\n",
    "            [clean_and_standardise_token(tok.src) for tok in tune._abc_handler.tokens],\n",
    "        )\n",
    "        for source_idx, tune in tqdm(clean_tunes, desc=\"splitting into tokens\")\n",
    "    ]\n",
    "\n",
    "    LOGGER.info(\n",
    "        \"Dropping tunes with rare tokens i.e. tokens which appear less than \"\n",
    "        f\"{minimum_token_frequency} times in the whole corpus\"\n",
    "    )\n",
    "    nr_tunes_before = len(tunes_as_token_lists)\n",
    "    token_counts = pd.Series(\n",
    "        [tok for _, tune in tunes_as_token_lists for tok in tune]\n",
    "    ).value_counts()\n",
    "    is_removed = token_counts < minimum_token_frequency\n",
    "    removed_tokens = token_counts[is_removed].index\n",
    "    nr_removed_tokens = sum(is_removed)\n",
    "    tunes_as_token_lists = [\n",
    "        (source_idx, tune)\n",
    "        for source_idx, tune in tqdm(\n",
    "            tunes_as_token_lists, desc=\"removing tunes with rare tokens\"\n",
    "        )\n",
    "        if all(token not in removed_tokens for token in tune)\n",
    "    ]\n",
    "    nr_removed_tunes = nr_tunes_before - len(tunes_as_token_lists)\n",
    "    LOGGER.info(\n",
    "        f\"Removed {nr_removed_tokens} tokens and the {nr_removed_tunes} tunes which \"\n",
    "        \"used them.\"\n",
    "    )\n",
    "\n",
    "    LOGGER.info(f\"Writing tokenized data to {output_path}\")\n",
    "    source_idx, tunes_as_token_strings = zip(\n",
    "        *[\n",
    "            (str(source_idx), token_separator.join(tune))\n",
    "            for source_idx, tune in tunes_as_token_lists\n",
    "        ]\n",
    "    )\n",
    "    with open(output_path, \"w\") as fh:\n",
    "        fh.write(\"\\n\".join(tunes_as_token_strings))\n",
    "    source_idx_path = f\"{os.path.splitext(output_path)[0]}_source_idx.txt\"\n",
    "    LOGGER.info(\n",
    "        \"Writing indices of source tunes (i.e. tune index number for tunes in \"\n",
    "        f\"{data_path}) for tokenized tunes {output_path} to {source_idx_path}\"\n",
    "    )\n",
    "    with open(source_idx_path, \"w\") as fh:\n",
    "        fh.write(\"\\n\".join(source_idx))"
   ]
  },
  {
   "cell_type": "code",
   "execution_count": null,
   "id": "6e4eed79-1be4-4c24-9c8f-a91a921d7037",
   "metadata": {},
   "outputs": [],
   "source": [
    "main(\n",
    "    data_path=,\n",
    "    output_path: str = OUTPUT_PATH,\n",
    "    token_separator: str = TOKEN_SEPARATOR,\n",
    "    nr_tunes: Optional[int] = None,\n",
    "    # TODO: reduce this number to zero and clean duff tokens manually (it's currently )\n",
    "    # partially used to get count = 1 tokens which are just crap (i.e. music21 parse\n",
    "    # errors) but there are many legitimate count = 1 tokens e.g. chords, accents, etc.\n",
    "    minimum_token_frequency: Optional[int] = 2,\n",
    "    log_level: Optional[str] = None,\n",
    ")"
   ]
  }
 ],
 "metadata": {
  "kernelspec": {
   "display_name": "Python 3",
   "language": "python",
   "name": "python3"
  },
  "language_info": {
   "codemirror_mode": {
    "name": "ipython",
    "version": 3
   },
   "file_extension": ".py",
   "mimetype": "text/x-python",
   "name": "python",
   "nbconvert_exporter": "python",
   "pygments_lexer": "ipython3",
   "version": "3.8.10"
  }
 },
 "nbformat": 4,
 "nbformat_minor": 5
}
