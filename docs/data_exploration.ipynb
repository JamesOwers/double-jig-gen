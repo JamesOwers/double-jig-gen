{
 "cells": [
  {
   "cell_type": "markdown",
   "metadata": {},
   "source": [
    "# Exploring the data"
   ]
  },
  {
   "cell_type": "code",
   "execution_count": null,
   "metadata": {},
   "outputs": [],
   "source": [
    "import random\n",
    "import re\n",
    "from pathlib import Path\n",
    "from typing import Mapping, Sequence\n",
    "\n",
    "from IPython.display import display\n",
    "import matplotlib.pyplot as plt\n",
    "import music21\n",
    "from midi_set_class.notation import (\n",
    "    ABC_PATTERN,\n",
    "    abc_to_midipitch,\n",
    "    midipitch_to_abc,\n",
    ")\n",
    "import numpy as np\n",
    "import pandas as pd\n",
    "import seaborn as sns\n",
    "\n",
    "from plotting import countplot_with_numbers, barplot_with_numbers\n",
    "from double_jig_gen.data import ABCDataset"
   ]
  },
  {
   "cell_type": "code",
   "execution_count": null,
   "metadata": {},
   "outputs": [],
   "source": [
    "filename = \"DoubleJig0001-0365.abc\"\n",
    "data_path = Path(\"..\", \"data\")\n",
    "file_path = Path(data_path, filename)"
   ]
  },
  {
   "cell_type": "code",
   "execution_count": null,
   "metadata": {},
   "outputs": [],
   "source": [
    "assert file_path.exists(), (\n",
    "    \"Download {filename} and put it in {data_path}. You can \"\n",
    "    \"execute the provided script: dj-gen-get-data\"\n",
    ")"
   ]
  },
  {
   "cell_type": "markdown",
   "metadata": {},
   "source": [
    "# Raw data"
   ]
  },
  {
   "cell_type": "markdown",
   "metadata": {},
   "source": [
    "The file is just a text file containing the data and metadata"
   ]
  },
  {
   "cell_type": "code",
   "execution_count": null,
   "metadata": {},
   "outputs": [],
   "source": [
    "! head -58 {str(file_path)}\n",
    "! echo ..."
   ]
  },
  {
   "cell_type": "markdown",
   "metadata": {},
   "source": [
    "## Music21"
   ]
  },
  {
   "cell_type": "markdown",
   "metadata": {},
   "source": [
    "The package [music21](http://web.mit.edu/music21/doc/) can read the whole lot into a container class."
   ]
  },
  {
   "cell_type": "code",
   "execution_count": null,
   "metadata": {},
   "outputs": [],
   "source": [
    "# This is a class containing all the separate jigs\n",
    "oneills_opus = music21.converter.parse(str(file_path.resolve()))"
   ]
  },
  {
   "cell_type": "code",
   "execution_count": null,
   "metadata": {},
   "outputs": [],
   "source": [
    "# contains 365 scores as expected\n",
    "len(list(oneills_opus.scores))"
   ]
  },
  {
   "cell_type": "code",
   "execution_count": null,
   "metadata": {},
   "outputs": [],
   "source": [
    "# All scores have a single part\n",
    "sum(len(list(score.parts.stream())) for score in oneills_opus.scores)"
   ]
  },
  {
   "cell_type": "markdown",
   "metadata": {},
   "source": [
    "## A random jig"
   ]
  },
  {
   "cell_type": "code",
   "execution_count": null,
   "metadata": {},
   "outputs": [],
   "source": [
    "random.seed(1337)\n",
    "score = random.choice(oneills_opus.scores)"
   ]
  },
  {
   "cell_type": "code",
   "execution_count": null,
   "metadata": {},
   "outputs": [],
   "source": [
    "score.show()"
   ]
  },
  {
   "cell_type": "markdown",
   "metadata": {},
   "source": [
    "## The Piper's Picnic"
   ]
  },
  {
   "cell_type": "code",
   "execution_count": null,
   "metadata": {},
   "outputs": [],
   "source": [
    "# You can select by title\n",
    "score = oneills_opus.getScoreByTitle(\"The piper's picnic\")"
   ]
  },
  {
   "cell_type": "code",
   "execution_count": null,
   "metadata": {},
   "outputs": [],
   "source": [
    "score.show()"
   ]
  },
  {
   "cell_type": "markdown",
   "metadata": {},
   "source": [
    "Internally, music21 is storing the data as a stream of information:\n",
    "* Parts contain\n",
    "    * Measures which contain\n",
    "        * Notes\n",
    "        * and other stuff"
   ]
  },
  {
   "cell_type": "code",
   "execution_count": null,
   "metadata": {},
   "outputs": [],
   "source": [
    "score.show('text')"
   ]
  },
  {
   "cell_type": "markdown",
   "metadata": {},
   "source": [
    "## Extracting metadata"
   ]
  },
  {
   "cell_type": "markdown",
   "metadata": {},
   "source": [
    "Here's what The Piper's Picnic looks like in the raw dataset"
   ]
  },
  {
   "cell_type": "markdown",
   "metadata": {},
   "source": [
    "```\n",
    "X:2\n",
    "T:The piper's picnic\n",
    "O:Ireland\n",
    "B:Francis O'Neill: \"The Dance Music of Ireland\" (1907) no. 2\n",
    "R:Double jig\n",
    "Z:Transcribed by Frank Nordberg - http://www.musicaviva.com\n",
    "F:http://www.musicaviva.com/abc/tunes/ireland/oneill-1001/oneill-1001-0002.abc\n",
    "M:6/8\n",
    "L:1/8\n",
    "K:A\n",
    "E|AcA BGE|cde dBG|\\\n",
    "AcA BGE|{F}EDE GAB|AcA BGE|cde dBG|{d}cBA BGE|EFG A2:|\n",
    "(A/B/)|ceA ceA|cee edc|(B/c/d)G (B/c/d)G|Bdd dcB|\\\n",
    "cde dcB|{d}cBA Ggf|ecA GED|EFGA2:|\n",
    "```"
   ]
  },
  {
   "cell_type": "markdown",
   "metadata": {},
   "source": [
    "We can get (most of) that data using music21"
   ]
  },
  {
   "cell_type": "code",
   "execution_count": null,
   "metadata": {},
   "outputs": [],
   "source": [
    "meta = score.metadata\n",
    "# there is only one part to each jig so index 0 works\n",
    "first_measure = score.parts[0].measure(0)\n",
    "second_measure = score.parts[0].measure(1)"
   ]
  },
  {
   "cell_type": "code",
   "execution_count": null,
   "metadata": {},
   "outputs": [],
   "source": [
    "# for attr_name in meta.searchAttributes:\n",
    "#     print(f\"{attr_name}: {getattr(meta, attr_name)}\")"
   ]
  },
  {
   "cell_type": "code",
   "execution_count": null,
   "metadata": {},
   "outputs": [],
   "source": [
    "(\n",
    "    meta.number,  # X:2\n",
    "    meta.title,  # T:The piper's picnic\n",
    "    meta.localeOfComposition,  # O:Ireland\n",
    "    None,  # B:Francis O'Neill: \"The Dance Music of Ireland\" (1907) no. 2\n",
    "    None,  # R:Double jig\n",
    "    None,  # Z:Transcribed by Frank Nordberg - http://www.musicaviva.com\n",
    "    None,  # F:http://www.musicaviva.com/abc/tunes/ireland/oneill-1001/oneill-1001-0002.abc\n",
    "    str(first_measure.timeSignature),  # M:6/8\n",
    "    second_measure.offset,  # L:1/8\n",
    "    str(first_measure.keySignature), # K:A\n",
    "    score.plot(),  # E|AcA BGE|cde dBG|\\\n",
    "           # AcA BGE|{F}EDE GAB|AcA BGE|cde dBG|{d}cBA BGE|EFG A2:|\n",
    "           # (A/B/)|ceA ceA|cee edc|(B/c/d)G (B/c/d)G|Bdd dcB|\\\n",
    "           # cde dcB|{d}cBA Ggf|ecA GED|EFGA2:|\n",
    ")"
   ]
  },
  {
   "cell_type": "markdown",
   "metadata": {},
   "source": [
    "# DQA"
   ]
  },
  {
   "cell_type": "code",
   "execution_count": null,
   "metadata": {},
   "outputs": [],
   "source": [
    "with open(file_path, 'r') as fh:\n",
    "    # remove comments\n",
    "    data_lines = [line for line in fh.readlines() if not line.startswith(\"%\")]\n",
    "    # remove leading and trailing whitespace and recombine\n",
    "    data = \"\".join(data_lines).strip()"
   ]
  },
  {
   "cell_type": "code",
   "execution_count": null,
   "metadata": {},
   "outputs": [],
   "source": [
    "abc_strings = data.split(\"\\n\\n\\n\\n\")"
   ]
  },
  {
   "cell_type": "code",
   "execution_count": null,
   "metadata": {},
   "outputs": [],
   "source": [
    "len(abc_strings)  # this should be 365"
   ]
  },
  {
   "cell_type": "code",
   "execution_count": null,
   "metadata": {},
   "outputs": [],
   "source": [
    "# Taken from: http://abcnotation.com/wiki/abc:standard:v2.1\n",
    "ABC_FIELDS = {\n",
    "    'A': 'area',\n",
    "    'B': 'book',\n",
    "    'C': 'composer',\n",
    "    'D': 'discography',\n",
    "    'F': 'file url',\n",
    "    'G': 'group',\n",
    "    'H': 'history',\n",
    "    'I': 'instruction',\n",
    "    'K': 'key',\n",
    "    'L': 'unit note length',\n",
    "    'M': 'meter',\n",
    "    'm': 'macro',\n",
    "    'N': 'notes',\n",
    "    'O': 'origin',\n",
    "    'P': 'parts',\n",
    "    'Q': 'tempo',\n",
    "    'R': 'rhythm',\n",
    "    'r': 'remark',\n",
    "    'S': 'source',\n",
    "    's': 'symbol line',\n",
    "    'T': 'tune title',\n",
    "    'U': 'user defined',\n",
    "    'V': 'voice',\n",
    "    'W': 'words',\n",
    "    'w': 'words',\n",
    "    'X': 'reference number',\n",
    "    'Z': 'transcription'\n",
    "}\n",
    "\n",
    "\n",
    "def merge_continuation_lines(lines: Sequence[str]) -> Sequence[str]:\n",
    "    \"\"\"Merges lines which end with \\ with the next line.\n",
    "    \n",
    "    Args:\n",
    "        lines: a list of strings to check and merge.\n",
    "        \n",
    "    Returns:\n",
    "        lines: the list of strings which have been merged.\n",
    "    \"\"\"\n",
    "    nr_checks = len(lines)\n",
    "    idx = 0\n",
    "    for _ in range(nr_checks):\n",
    "        line = lines[idx]\n",
    "        if line.endswith(\"\\\\\"):\n",
    "            line = line[:-1]  # remove trailing backslash\n",
    "            try:\n",
    "                lines[idx] = f\"{line} {lines[idx+1]}\"\n",
    "                del lines[idx+1]  # del and stay on this line\n",
    "            except IndexError as e:\n",
    "                print(lines, line)\n",
    "                raise e\n",
    "        else:\n",
    "            idx += 1\n",
    "    return lines\n",
    "\n",
    "\n",
    "def parse_abc(abc_str: str) -> Mapping[str, str]:\n",
    "    \"\"\"Get the required information from each tune.\n",
    "    \n",
    "    Extracts the metadata as defined in [1] from the string, plus the transcription\n",
    "    which is assumed not to have a prefix. Assumes all metadata is stated before the\n",
    "    transcription is started. Then adds everything remaining to the transcription.\n",
    "    \n",
    "    Args:\n",
    "        abc_str: the string containing an abc file to parse.\n",
    "        \n",
    "    Returns:\n",
    "        out_dict: a dictionary containing all the extracted values.\n",
    "    \n",
    "    See also:\n",
    "    * http://abcnotation.com/wiki/abc:standard:v2.1\n",
    "    \"\"\"\n",
    "    lines = [line.strip() for line in abc_str.split(\"\\n\")]\n",
    "    \n",
    "    # if a line ends with \\ then merge with subsequent line\n",
    "    lines = merge_continuation_lines(lines)\n",
    "    \n",
    "    valid_field = \"|\".join(ABC_FIELDS)\n",
    "    metadata_line_regex = re.compile(f\"^({valid_field}):\")\n",
    "     \n",
    "    _, metadata_end_idx = min(\n",
    "        (val, idx)\n",
    "        for (idx, val)\n",
    "        in enumerate([bool(metadata_line_regex.match(line)) for line in lines])\n",
    "    )\n",
    "    \n",
    "    out_dict = {}\n",
    "    for line in lines[:metadata_end_idx]:\n",
    "        meta_key, value = line.split(\":\", 1)\n",
    "        field_name = ABC_FIELDS[meta_key]\n",
    "        if field_name in out_dict:\n",
    "            concat_fields = (\"tune title\", \"words\")\n",
    "            if field_name not in concat_fields:\n",
    "                msg = (\n",
    "                    f\"Tried to add {(field_name, value)} to {out_dict}.\"\n",
    "                    f\"\\nLines: {lines}\"\n",
    "                )\n",
    "                raise ValueError(msg)\n",
    "            else:\n",
    "                out_dict[field_name] = f\"{out_dict[field_name]} --- {line}\"\n",
    "        out_dict[field_name] = value\n",
    "    \n",
    "    transcription_label = \"tune\"\n",
    "    for line in lines[metadata_end_idx:]:\n",
    "        if line.upper().startswith(\"W:\"):\n",
    "            if \"words\" not in out_dict:\n",
    "                out_dict[\"words\"] = line\n",
    "            else:\n",
    "                out_dict[\"words\"] = f\"{out_dict['words']} --- {line}\"\n",
    "        elif transcription_label not in out_dict:\n",
    "            out_dict[transcription_label] = line\n",
    "        else:\n",
    "            out_dict[transcription_label] = f\"{out_dict[transcription_label]} {line}\"\n",
    "    return out_dict"
   ]
  },
  {
   "cell_type": "code",
   "execution_count": null,
   "metadata": {},
   "outputs": [],
   "source": [
    "r\"\\\\\""
   ]
  },
  {
   "cell_type": "code",
   "execution_count": null,
   "metadata": {},
   "outputs": [],
   "source": [
    "parsed_abc = [parse_abc(abc) for abc in abc_strings]"
   ]
  },
  {
   "cell_type": "code",
   "execution_count": null,
   "metadata": {},
   "outputs": [],
   "source": [
    "oneills_df = pd.DataFrame(parsed_abc)"
   ]
  },
  {
   "cell_type": "markdown",
   "metadata": {},
   "source": [
    "### How much of the data is missing?"
   ]
  },
  {
   "cell_type": "code",
   "execution_count": null,
   "metadata": {},
   "outputs": [],
   "source": [
    "missing_counts = oneills_df.isna().sum().rename(\"count_of_missing_values\")\n",
    "missing_counts"
   ]
  },
  {
   "cell_type": "code",
   "execution_count": null,
   "metadata": {},
   "outputs": [],
   "source": [
    "id_vars = [\"reference number\"]\n",
    "value_vars = [col for col in oneills_df.columns if col not in id_vars]\n",
    "melt_df = oneills_df.melt(\n",
    "    id_vars=id_vars,\n",
    "    value_vars=value_vars,\n",
    "    var_name=\"field_name\",\n",
    ")\n",
    "missing_df = melt_df\n",
    "missing_df[\"value\"] = missing_df[\"value\"].isna()"
   ]
  },
  {
   "cell_type": "code",
   "execution_count": null,
   "metadata": {},
   "outputs": [],
   "source": [
    "countplot_with_numbers(\n",
    "    var_name=\"field_name\", data=missing_df,  hue=\"value\", kind=\"count\"\n",
    ")\n",
    "plt.title(\"filed value is missing\")\n",
    "plt.xticks(rotation=90);"
   ]
  },
  {
   "cell_type": "code",
   "execution_count": null,
   "metadata": {},
   "outputs": [],
   "source": [
    "def ordered_countplot(series, **kwargs):\n",
    "    count = series.value_counts()\n",
    "    barplot_with_numbers(count, **kwargs)"
   ]
  },
  {
   "cell_type": "markdown",
   "metadata": {},
   "source": [
    "### Vaule counts"
   ]
  },
  {
   "cell_type": "code",
   "execution_count": null,
   "metadata": {},
   "outputs": [],
   "source": [
    "exclude_cols = [\n",
    "    \"reference number\",\n",
    "    \"tune title\",\n",
    "    \"file url\",\n",
    "    \"book\",\n",
    "    \"tune\",\n",
    "    \"words\",\n",
    "    \"transcription\",\n",
    "]\n",
    "for col in [col for col in oneills_df.columns if col not in exclude_cols]:\n",
    "    plt.figure()\n",
    "    ordered_countplot(oneills_df[col], kind=\"count\")\n",
    "    plt.xticks(rotation=90)\n",
    "    plt.title(col, fontsize=20)\n",
    "    plt.ylabel(\"count\")\n",
    "    plt.show()"
   ]
  },
  {
   "cell_type": "code",
   "execution_count": null,
   "metadata": {},
   "outputs": [],
   "source": [
    "oneills_df[\"book\"].str.slice(\n",
    "    stop=len(\"Francis O'Neill: 'The Dance Music of Ireland' (1907)\")\n",
    ").value_counts()"
   ]
  },
  {
   "cell_type": "code",
   "execution_count": null,
   "metadata": {},
   "outputs": [],
   "source": [
    "for idx in oneills_df.index[~oneills_df[\"words\"].isna()]:\n",
    "    ref, title, words = oneills_df.loc[idx, [\"reference number\", \"tune title\", \"words\"]]\n",
    "    comment = \"\\n\".join(words.split(\" --- \"))\n",
    "    print(f\"Tune {ref} \\\"{title}\\\", has comments:\\n{comment}\\n\")"
   ]
  },
  {
   "cell_type": "markdown",
   "metadata": {},
   "source": [
    "## Tune analysis"
   ]
  },
  {
   "cell_type": "code",
   "execution_count": null,
   "metadata": {},
   "outputs": [],
   "source": [
    "tunes = [abc[\"tune\"] for abc in parsed_abc]"
   ]
  },
  {
   "cell_type": "code",
   "execution_count": null,
   "metadata": {},
   "outputs": [],
   "source": [
    "tokens_set = set(list(''.join(tunes)))\n",
    "idx2token = list(tokens_set)\n",
    "vocab_size = len(idx2token)\n",
    "print(f\"vocabulary size: {vocab_size}\")\n",
    "print(f\"vocabulary (each token separated by a space): \\n{' '.join(sorted(tokens_set))}\")"
   ]
  },
  {
   "cell_type": "markdown",
   "metadata": {},
   "source": [
    "### Number of tokens in a piece (not true length as repeats are notated |: :|)"
   ]
  },
  {
   "cell_type": "code",
   "execution_count": null,
   "metadata": {},
   "outputs": [],
   "source": [
    "tune_len = [len(tune.replace(' ', '')) for tune in tunes]"
   ]
  },
  {
   "cell_type": "code",
   "execution_count": null,
   "metadata": {},
   "outputs": [],
   "source": [
    "max_len = max(tune_len)\n",
    "med_len = np.median(tune_len)\n",
    "mean_len = np.mean(tune_len)\n",
    "min_len = min(tune_len)\n",
    "sns.distplot(tune_len)\n",
    "plt.xlabel(\"Number of non-whitespace chars in tunes\")\n",
    "plt.title(\n",
    "    f\"Mean: {int(mean_len)}, median: {int(med_len)}, range: [{min_len}, {max_len}]\"\n",
    ");"
   ]
  },
  {
   "cell_type": "markdown",
   "metadata": {},
   "source": [
    "### How many tunes have ornamentation etc. in them?"
   ]
  },
  {
   "cell_type": "markdown",
   "metadata": {},
   "source": [
    "Summary:\n",
    "\n",
    "* K - key change mid tune\n",
    "* L - a `>` accent on the subsequent note\n",
    "* M - a lower mordent <img src=\"https://www.8notes.com/school/lessons/all/lowermordent1.1.gif\" alt=\"Lower Mordent\" width=200>\n",
    "* S, and O - segno (sign), and coda <img src=\"https://www.liveabout.com/thmb/1Qfs7xts_x04z1HXOWLPeibyivA=/735x0/GL_segno-coda-music-56a72d345f9b58b7d0e7996b.png\" alt=\"segno\" width=\"100\"/>\n",
    "* T - `tr' trill\n",
    "* ~ - irish roll\n",
    "* z - rest\n",
    "* { } - grace note\n",
    "* \"...\" - text annotations\n",
    "\n",
    "For more on these, see http://abcnotation.com/wiki/abc:standard:v2.1\n",
    "\n",
    "Exceptions found:\n",
    "* The one tune containing 's' and 't' has a text annotation saying 1st and 2nd\n",
    "\n",
    "I found http://www.clivew.com/abc.php useful for viewing ornaments (music21 doesn't display them)."
   ]
  },
  {
   "cell_type": "code",
   "execution_count": null,
   "metadata": {},
   "outputs": [],
   "source": [
    "ornaments = {\n",
    "    \"K\": \"key change mid tune\",\n",
    "    \"L\": \"a `>` accent on the subsequent note\",\n",
    "    \"M\": \"a lower mordent\",\n",
    "    \"S\": \"segno (sign)\",\n",
    "    \"O\": \"coda\",\n",
    "    \"T\": \"`tr' trill\",\n",
    "    \"~\": \"irish roll\",\n",
    "    \"z\": \"rest\",\n",
    "    \"{\": \"grace note\",\n",
    "    \"\\\"\": \"text annotations\",\n",
    "}\n",
    "query_strings = ornaments.keys()\n",
    "weird_tunes = {}\n",
    "for query in query_strings:\n",
    "    weird_tunes[query] = [\n",
    "        (idx, tune) for (idx, tune) in enumerate(tunes) if query in tune\n",
    "    ]"
   ]
  },
  {
   "cell_type": "code",
   "execution_count": null,
   "metadata": {},
   "outputs": [],
   "source": [
    "{k: len(v) for k, v in weird_tunes.items()}"
   ]
  },
  {
   "cell_type": "code",
   "execution_count": null,
   "metadata": {
    "tags": []
   },
   "outputs": [],
   "source": [
    "for query, exceptions in weird_tunes.items():\n",
    "    count = len(exceptions)\n",
    "    print(f\"\\n\\n{10*'='} Exceptions contiaining '{query}' ({count}) {10*'='}\")\n",
    "    print(f\"'{query}' = {ornaments[query]} (http://abcnotation.com/wiki/abc:standard:v2.1)\\n\")\n",
    "    max_print = 2\n",
    "    for (idx, _) in exceptions[:max_print]:\n",
    "        abc = parsed_abc[idx]\n",
    "        for k, v in abc.items():\n",
    "            print(f\"{k}: {v}\")\n",
    "        abch = music21.abcFormat.ABCHandler()\n",
    "        abch.tokenize(abc[\"tune\"])\n",
    "        print(\"tokenized tune: \" + \" \".join([tok.src for tok in abch.tokens]))\n",
    "        print(\"\\n\")\n",
    "        oneills_opus.scores[idx].show()\n",
    "        print(\"\\n\")\n",
    "    if count > max_print:\n",
    "        print(\"\\n ... \\n\")        "
   ]
  },
  {
   "cell_type": "markdown",
   "metadata": {},
   "source": [
    "# Preprocessing ================================"
   ]
  },
  {
   "cell_type": "markdown",
   "metadata": {},
   "source": [
    "Preprocessing to do:\n",
    "* [x] Check L: is standard for all tunes\n",
    "  * It's 1/8 for all tunes\n",
    "* [x] Only keep M: and K:\n",
    "* [x] Transpose all tunes to be centred at C\n",
    "  * used FolkRNN-parser to tokenize, then rolled my own transposition code on tokens\n",
    "  * tried to use music21 - no export to abc, only lilypond. then tried ly2abc.py, but this messed up bars\n",
    "* [x] Remove all ornaments and gracenotes\n",
    "  * appears to be done by `python FolkRNN-parser.py -f ../double-jig-gen/data/oneills_tunes -o oniells_double_jigs.abc`\n",
    "* [x] Add `=` (indicating the note is natural i.e. not flat nor sharp) onto all notes which are natural\n",
    "* [x] Separate into tokens\n",
    "    * Hopefully can just use FolkRNN-parser.py\n",
    "    * [x] Check that brackets are handled correctly, \n",
    "        * seems like you can open a bracket and not close it if it's finished by a bar"
   ]
  },
  {
   "cell_type": "markdown",
   "metadata": {},
   "source": [
    "Example output:\n",
    "```\n",
    "M:9/8\n",
    "K:maj\n",
    "=G =E =E =E 2 =D =E =D =C | =G =E =E =E =F =G =A =B =c | =G =E =E =E 2 =D =E =D =C | =A =D =D =G =E =C =D 2 =A | =G =E =E =E 2 =D =E =D =C | =G =E =E =E =F =G =A =B =c | =G =E =E =E 2 =D =E =D =C | =A =D =D =G =E =C =D 2 =D | =E =D =E =c 2 =A =B =A =G | =E =D =E =A /2 =B /2 =c =A =B 2 =D | =E =D =E =c 2 =A =B =A =G | =A =D =D =D =E =G =A 2 =D | =E =D =E =c 2 =A =B =A =G | =E =D =E =A /2 =B /2 =c =A =B 2 =B | =G =A =B =c =B =A =B =A =G | =A =D =D =D =E =G =A =B =c |\n",
    "\n",
    "```"
   ]
  },
  {
   "cell_type": "markdown",
   "metadata": {},
   "source": [
    "## Remove the lydian tune"
   ]
  },
  {
   "cell_type": "code",
   "execution_count": null,
   "metadata": {},
   "outputs": [],
   "source": [
    "oneills_df = oneills_df.loc[oneills_df.key != 'Glyd', :]"
   ]
  },
  {
   "cell_type": "markdown",
   "metadata": {},
   "source": [
    "## Transpose"
   ]
  },
  {
   "cell_type": "code",
   "execution_count": null,
   "metadata": {},
   "outputs": [],
   "source": [
    "oneills_df.key.value_counts()"
   ]
  },
  {
   "cell_type": "markdown",
   "metadata": {},
   "source": [
    "### Get nr_semitones to transpose"
   ]
  },
  {
   "cell_type": "code",
   "execution_count": null,
   "metadata": {},
   "outputs": [],
   "source": [
    "# This only works as there are no flat or sharp keys\n",
    "num_letter = {\n",
    "    0: \"C\",\n",
    "    2: \"D\",\n",
    "    4: \"E\",\n",
    "    5: \"F\",\n",
    "    7: \"G\",\n",
    "    9: \"A\",\n",
    "    10: \"Bb\",\n",
    "    11: \"B\",\n",
    "}\n",
    "letter_num = {v: k for k, v in num_letter.items()}\n",
    "mode_num = {\n",
    "    'dor': -2,\n",
    "    'mix': -7,\n",
    "    'm': -9,\n",
    "}\n",
    "def transpose_key(key_str):\n",
    "    letter = key_str[0]\n",
    "    num = letter_num[letter]\n",
    "    if len(key_str) > 1:\n",
    "        mode = key_str[1:]\n",
    "    else:\n",
    "        mode = None\n",
    "    if mode is not None:\n",
    "        num = (num + mode_num[mode]) % 12\n",
    "    diatonic_letter = num_letter[num]\n",
    "    transpose_semitones = letter_num[diatonic_letter]\n",
    "    if transpose_semitones > 6:\n",
    "        transpose_semitones = transpose_semitones - 12\n",
    "    return -transpose_semitones"
   ]
  },
  {
   "cell_type": "code",
   "execution_count": null,
   "metadata": {},
   "outputs": [],
   "source": [
    "oneills_df['transpose_semitones'] = oneills_df.key.apply(transpose_key)"
   ]
  },
  {
   "cell_type": "code",
   "execution_count": null,
   "metadata": {},
   "outputs": [],
   "source": [
    "oneills_df.groupby(['key', 'transpose_semitones']).size()"
   ]
  },
  {
   "cell_type": "markdown",
   "metadata": {},
   "source": [
    "### Can we use `music21` (& `ly2abc`) to write new abc?\n",
    "Spoiler: no. The bar lines get messed up somewhere.\n",
    "This code just checks the transpose semitones are correct."
   ]
  },
  {
   "cell_type": "code",
   "execution_count": null,
   "metadata": {},
   "outputs": [],
   "source": [
    "abch = music21.abcFormat.ABCHandler()\n",
    "print(oneills_df.loc[0, \"tune\"])\n",
    "abch.tokenize(oneills_df.loc[0, \"tune\"])\n",
    "\" \".join([tok.src for tok in abch.tokens])"
   ]
  },
  {
   "cell_type": "code",
   "execution_count": null,
   "metadata": {},
   "outputs": [],
   "source": []
  },
  {
   "cell_type": "code",
   "execution_count": null,
   "metadata": {},
   "outputs": [],
   "source": [
    "oneills_df.loc[1]"
   ]
  },
  {
   "cell_type": "code",
   "execution_count": null,
   "metadata": {},
   "outputs": [],
   "source": [
    "oneills_df.loc[oneills_df.key.str.contains('mix')]"
   ]
  },
  {
   "cell_type": "code",
   "execution_count": null,
   "metadata": {},
   "outputs": [],
   "source": [
    "oneills_df.loc[14]"
   ]
  },
  {
   "cell_type": "code",
   "execution_count": null,
   "metadata": {},
   "outputs": [],
   "source": [
    "score = oneills_opus.scores[14]"
   ]
  },
  {
   "cell_type": "code",
   "execution_count": null,
   "metadata": {},
   "outputs": [],
   "source": [
    "score.show()"
   ]
  },
  {
   "cell_type": "code",
   "execution_count": null,
   "metadata": {},
   "outputs": [],
   "source": [
    "s2 = score.transpose(oneills_df.loc[14, 'transpose_semitones'])\n",
    "s2.show()"
   ]
  },
  {
   "cell_type": "code",
   "execution_count": null,
   "metadata": {},
   "outputs": [],
   "source": [
    "oneills_df.loc[oneills_df.key.str.endswith('m')]"
   ]
  },
  {
   "cell_type": "code",
   "execution_count": null,
   "metadata": {},
   "outputs": [],
   "source": [
    "oneills_df.loc[31]"
   ]
  },
  {
   "cell_type": "code",
   "execution_count": null,
   "metadata": {},
   "outputs": [],
   "source": [
    "score = oneills_opus.scores[31]\n",
    "score.show()"
   ]
  },
  {
   "cell_type": "code",
   "execution_count": null,
   "metadata": {},
   "outputs": [],
   "source": [
    "s2 = score.transpose(oneills_df.loc[31, 'transpose_semitones'])\n",
    "s2.show()"
   ]
  },
  {
   "cell_type": "code",
   "execution_count": null,
   "metadata": {},
   "outputs": [],
   "source": [
    "def make_transposed_music21(row):\n",
    "    ref_idx = int(row[\"reference number\"])\n",
    "    trans_semitones = row[\"transpose_semitones\"]\n",
    "    score = oneills_opus.scores[ref_idx - 1].transpose(trans_semitones)\n",
    "    return score"
   ]
  },
  {
   "cell_type": "code",
   "execution_count": null,
   "metadata": {},
   "outputs": [],
   "source": [
    "oneills_df[\"transposed_music21\"] = oneills_df.apply(make_transposed_music21, axis=1)"
   ]
  },
  {
   "cell_type": "code",
   "execution_count": null,
   "metadata": {},
   "outputs": [],
   "source": [
    "output_dir = Path(data_path, \"oneills_lilypond\")\n",
    "output_dir.mkdir(parents=True, exist_ok=True)\n",
    "for idx, row in oneills_df.iterrows():\n",
    "    tune_ref = row['reference number']\n",
    "    outpath = Path(output_dir, f\"tune_{int(tune_ref):03d}.lp\")\n",
    "    row[\"transposed_music21\"].write(fmt='lilypond', fp=str(outpath))"
   ]
  },
  {
   "cell_type": "code",
   "execution_count": null,
   "metadata": {},
   "outputs": [],
   "source": [
    "output_dir = Path(data_path, \"oneills_transposed\")\n",
    "output_dir.mkdir(parents=True, exist_ok=True)"
   ]
  },
  {
   "cell_type": "markdown",
   "metadata": {},
   "source": [
    "```bash\n",
    "for filepath in ../double-jig-gen/data/oneills_lilypond/*; do\n",
    "    filename=\"${filepath##*/}\"\n",
    "    filename=\"${filename%.*}\"\n",
    "    outpath=\"../double-jig-gen/data/oneills_transposed/${filename}.abc\"\n",
    "    echo \"Processing $filename\"\n",
    "    pipenv run python ly2abc.py $filepath > $outpath\n",
    "done\n",
    "```"
   ]
  },
  {
   "cell_type": "code",
   "execution_count": null,
   "metadata": {},
   "outputs": [],
   "source": [
    "tok_data_path = Path(data_path, \"folkrnn_parser_output\", \"oneills_transposed.abc\")\n",
    "with open(str(tok_data_path), \"r\") as fh:\n",
    "    tok_data = fh.read().strip()\n",
    "tok_tunes = [\n",
    "    tune_str.split('\\n')[3][len(\"[M:6/8] [L:1/8] \"):]\n",
    "    for tune_str in tok_data.split('\\n\\n')\n",
    "]\n",
    "tok_tunes[1]"
   ]
  },
  {
   "cell_type": "markdown",
   "metadata": {},
   "source": [
    "DAMMIT!!! THE BARS ARE ALL MESSED UP..."
   ]
  },
  {
   "cell_type": "code",
   "execution_count": null,
   "metadata": {},
   "outputs": [],
   "source": [
    "len(tok_tunes)"
   ]
  },
  {
   "cell_type": "markdown",
   "metadata": {},
   "source": [
    "## Tokenize and clean with `FolkRNN-parser`"
   ]
  },
  {
   "cell_type": "markdown",
   "metadata": {},
   "source": [
    "### Write individual files out"
   ]
  },
  {
   "cell_type": "code",
   "execution_count": null,
   "metadata": {},
   "outputs": [],
   "source": [
    "oneills_df.dtypes"
   ]
  },
  {
   "cell_type": "code",
   "execution_count": null,
   "metadata": {},
   "outputs": [],
   "source": [
    "output_dir = Path(data_path, \"oneills_tunes\")\n",
    "for idx, row in oneills_df.iterrows():\n",
    "    with open(str(Path(output_dir, f\"tune_{int(row['reference number']):03d}.abc\")), \"w\") as fh:\n",
    "        tune_str = f\"M:{row.meter}\\nK:{row.key}\\n{row.tune}\"\n",
    "        fh.write(tune_str)\n"
   ]
  },
  {
   "cell_type": "markdown",
   "metadata": {},
   "source": [
    "NB I edited the FolkRNN-parser code to sort the files such that they stay in order"
   ]
  },
  {
   "cell_type": "markdown",
   "metadata": {},
   "source": [
    "```bash\n",
    "python ../../polska/FolkRNN-parser.py -f ../data/oneills_tunes -o ../data/folkrnn_parser_output/oneills_transposed.abc \n",
    "```"
   ]
  },
  {
   "cell_type": "code",
   "execution_count": null,
   "metadata": {},
   "outputs": [],
   "source": []
  },
  {
   "cell_type": "markdown",
   "metadata": {},
   "source": [
    "### Read back"
   ]
  },
  {
   "cell_type": "code",
   "execution_count": null,
   "metadata": {},
   "outputs": [],
   "source": [
    "tok_data_path = Path(data_path, \"folkrnn_parser_output\", \"oneills_double_jigs.abc\")\n",
    "with open(str(tok_data_path), \"r\") as fh:\n",
    "    tok_data = fh.read().strip()\n",
    "tok_tunes = [tune_str.split('\\n')[-1].split() for tune_str in tok_data.split('\\n\\n')]"
   ]
  },
  {
   "cell_type": "code",
   "execution_count": null,
   "metadata": {},
   "outputs": [],
   "source": [
    "len(tok_tunes)"
   ]
  },
  {
   "cell_type": "code",
   "execution_count": null,
   "metadata": {},
   "outputs": [],
   "source": [
    "oneills_df[\"tune_str\"] = oneills_df[\"tune\"]"
   ]
  },
  {
   "cell_type": "code",
   "execution_count": null,
   "metadata": {},
   "outputs": [],
   "source": [
    "oneills_df[\"tune\"] = tok_tunes"
   ]
  },
  {
   "cell_type": "code",
   "execution_count": null,
   "metadata": {},
   "outputs": [],
   "source": [
    "oneills_df"
   ]
  },
  {
   "cell_type": "markdown",
   "metadata": {},
   "source": [
    "## Manual transpose"
   ]
  },
  {
   "cell_type": "code",
   "execution_count": null,
   "metadata": {},
   "outputs": [],
   "source": [
    "def transpose_tune(token_list, nr_semitones):\n",
    "    new_token_list = []\n",
    "    for tok in token_list:\n",
    "        if ABC_PATTERN.match(tok):\n",
    "            midipitch = abc_to_midipitch(tok)\n",
    "            midipitch += nr_semitones\n",
    "            tok = midipitch_to_abc(midipitch)\n",
    "            new_token_list.append(tok)\n",
    "        else:\n",
    "            new_token_list.append(tok)\n",
    "    return new_token_list"
   ]
  },
  {
   "cell_type": "code",
   "execution_count": null,
   "metadata": {},
   "outputs": [],
   "source": [
    "idx = 1\n",
    "tune = oneills_df.loc[idx, \"tune\"]\n",
    "nr_semitones = oneills_df.loc[idx, \"transpose_semitones\"]\n",
    "oneills_df.loc[idx]"
   ]
  },
  {
   "cell_type": "code",
   "execution_count": null,
   "metadata": {},
   "outputs": [],
   "source": [
    "transposed_tune = transpose_tune(tune, nr_semitones)"
   ]
  },
  {
   "cell_type": "code",
   "execution_count": null,
   "metadata": {},
   "outputs": [],
   "source": [
    "' '.join(tune)"
   ]
  },
  {
   "cell_type": "code",
   "execution_count": null,
   "metadata": {},
   "outputs": [],
   "source": [
    "' '.join(transposed_tune)"
   ]
  },
  {
   "cell_type": "code",
   "execution_count": null,
   "metadata": {},
   "outputs": [],
   "source": [
    "def trans_row(row):\n",
    "    tune = row[\"tune\"]\n",
    "    oneills_df[\"transpose_semitones\"]\n",
    "    return transpose_tune(tune, nr_semitones)"
   ]
  },
  {
   "cell_type": "code",
   "execution_count": null,
   "metadata": {},
   "outputs": [],
   "source": [
    "oneills_df[\"trans_tune\"] = oneills_df.apply(trans_row, axis=1)"
   ]
  },
  {
   "cell_type": "code",
   "execution_count": null,
   "metadata": {},
   "outputs": [],
   "source": [
    "oneills_df.head(2)"
   ]
  },
  {
   "cell_type": "markdown",
   "metadata": {},
   "source": [
    "## Add `=` to naturals"
   ]
  },
  {
   "cell_type": "code",
   "execution_count": null,
   "metadata": {},
   "outputs": [],
   "source": [
    "def add_equals_to_naturals(token_list):\n",
    "    return [f\"={tok}\" if re.match(r\"^[A-Ga-g]$\", tok[0]) else tok for tok in token_list]"
   ]
  },
  {
   "cell_type": "code",
   "execution_count": null,
   "metadata": {},
   "outputs": [],
   "source": [
    "add_equals_to_naturals([\"c\", \"^G\"])"
   ]
  },
  {
   "cell_type": "code",
   "execution_count": null,
   "metadata": {},
   "outputs": [],
   "source": [
    "idx = 0\n",
    "tune = oneills_df.loc[idx, \"trans_tune\"]"
   ]
  },
  {
   "cell_type": "code",
   "execution_count": null,
   "metadata": {},
   "outputs": [],
   "source": [
    "' '.join(tune)"
   ]
  },
  {
   "cell_type": "code",
   "execution_count": null,
   "metadata": {},
   "outputs": [],
   "source": [
    "' '.join(add_equals_to_naturals(tune))"
   ]
  },
  {
   "cell_type": "code",
   "execution_count": null,
   "metadata": {},
   "outputs": [],
   "source": [
    "oneills_df[\"clean_tune\"] = oneills_df[\"trans_tune\"].apply(add_equals_to_naturals)"
   ]
  },
  {
   "cell_type": "code",
   "execution_count": null,
   "metadata": {},
   "outputs": [],
   "source": [
    "oneills_df.head(2)"
   ]
  },
  {
   "cell_type": "code",
   "execution_count": null,
   "metadata": {},
   "outputs": [],
   "source": [
    "clean_tunes = oneills_df[\"clean_tune\"].tolist()"
   ]
  },
  {
   "cell_type": "code",
   "execution_count": null,
   "metadata": {},
   "outputs": [],
   "source": [
    "dataset = ABCDataset(tunes=clean_tunes)"
   ]
  },
  {
   "cell_type": "code",
   "execution_count": null,
   "metadata": {},
   "outputs": [],
   "source": [
    "print(dataset)"
   ]
  },
  {
   "cell_type": "markdown",
   "metadata": {},
   "source": [
    "there are a few tokens to handle, e.g. keys within bars. For now - remove the tunes."
   ]
  },
  {
   "cell_type": "code",
   "execution_count": null,
   "metadata": {},
   "outputs": [],
   "source": [
    "issues = [\"[K:AMaj]\", \"[K:DMaj]\", \"[K:GMaj]\"]"
   ]
  },
  {
   "cell_type": "code",
   "execution_count": null,
   "metadata": {},
   "outputs": [],
   "source": [
    "has_issue = [any(issue in tune for issue in issues) for tune in clean_tunes]"
   ]
  },
  {
   "cell_type": "code",
   "execution_count": null,
   "metadata": {},
   "outputs": [],
   "source": [
    "np.array(has_issue).sum()"
   ]
  },
  {
   "cell_type": "code",
   "execution_count": null,
   "metadata": {},
   "outputs": [],
   "source": [
    "oneills_df = oneills_df.loc[~ np.array(has_issue), :]"
   ]
  },
  {
   "cell_type": "code",
   "execution_count": null,
   "metadata": {},
   "outputs": [],
   "source": [
    "clean_tunes = oneills_df[\"clean_tune\"].tolist()"
   ]
  },
  {
   "cell_type": "code",
   "execution_count": null,
   "metadata": {},
   "outputs": [],
   "source": [
    "dataset = ABCDataset(tunes=clean_tunes)"
   ]
  },
  {
   "cell_type": "code",
   "execution_count": null,
   "metadata": {},
   "outputs": [],
   "source": [
    "print(dataset)"
   ]
  },
  {
   "cell_type": "code",
   "execution_count": null,
   "metadata": {},
   "outputs": [],
   "source": [
    "sns.distplot([len(tune) for tune in clean_tunes])"
   ]
  },
  {
   "cell_type": "markdown",
   "metadata": {},
   "source": [
    "# Write the cleaned result"
   ]
  },
  {
   "cell_type": "code",
   "execution_count": null,
   "metadata": {},
   "outputs": [],
   "source": [
    "oneills_df.key.value_counts()"
   ]
  },
  {
   "cell_type": "code",
   "execution_count": null,
   "metadata": {},
   "outputs": [],
   "source": [
    "filepath = Path(data_path, \"oneills_reformat.abc\")\n",
    "with open(str(filepath), \"w\") as fh:\n",
    "    for idx, row in oneills_df.iterrows():\n",
    "        fh.write(\"M:6/8\\n\")\n",
    "        key = row[\"key\"]\n",
    "        if len(key) == 1:\n",
    "            key_str = 'maj'\n",
    "        elif len(key) == 2:\n",
    "            key_str = 'min'\n",
    "        else:\n",
    "            key_str = key[1:]\n",
    "        fh.write(f\"K:{key_str}\\n\")\n",
    "        tune = row[\"clean_tune\"]\n",
    "        fh.write(f\"{' '.join(tune)}\\n\\n\")"
   ]
  },
  {
   "cell_type": "markdown",
   "metadata": {},
   "source": [
    "# Read dataset"
   ]
  },
  {
   "cell_type": "code",
   "execution_count": null,
   "metadata": {},
   "outputs": [],
   "source": [
    "dataset = ABCDataset(filepath)"
   ]
  },
  {
   "cell_type": "code",
   "execution_count": null,
   "metadata": {},
   "outputs": [],
   "source": [
    "print(dataset)"
   ]
  },
  {
   "cell_type": "code",
   "execution_count": null,
   "metadata": {},
   "outputs": [],
   "source": []
  },
  {
   "cell_type": "code",
   "execution_count": null,
   "metadata": {},
   "outputs": [],
   "source": []
  },
  {
   "cell_type": "code",
   "execution_count": null,
   "metadata": {},
   "outputs": [],
   "source": []
  },
  {
   "cell_type": "markdown",
   "metadata": {},
   "source": [
    "# Extra: music21 built-in plots"
   ]
  },
  {
   "cell_type": "code",
   "execution_count": null,
   "metadata": {},
   "outputs": [],
   "source": [
    "score.plot('histogram', 'octave', xHideUnused=False)"
   ]
  },
  {
   "cell_type": "code",
   "execution_count": null,
   "metadata": {},
   "outputs": [],
   "source": [
    "oneills_opus.plot('histogram', 'octave')"
   ]
  },
  {
   "cell_type": "code",
   "execution_count": null,
   "metadata": {},
   "outputs": [],
   "source": [
    "score.plot('histogram', 'pitchClass')"
   ]
  },
  {
   "cell_type": "code",
   "execution_count": null,
   "metadata": {},
   "outputs": [],
   "source": [
    "oneills_opus.plot('histogram', 'pitchClass')"
   ]
  },
  {
   "cell_type": "code",
   "execution_count": null,
   "metadata": {},
   "outputs": [],
   "source": [
    "oneills_opus.plot('scatterweighted', 'pitch', 'quarterLength')"
   ]
  },
  {
   "cell_type": "code",
   "execution_count": null,
   "metadata": {},
   "outputs": [],
   "source": [
    "p = music21.graph.plot.WindowedKey(score)\n",
    "p.run()"
   ]
  },
  {
   "cell_type": "code",
   "execution_count": null,
   "metadata": {},
   "outputs": [],
   "source": []
  },
  {
   "cell_type": "code",
   "execution_count": null,
   "metadata": {},
   "outputs": [],
   "source": []
  },
  {
   "cell_type": "code",
   "execution_count": null,
   "metadata": {},
   "outputs": [],
   "source": [
    "    "
   ]
  },
  {
   "cell_type": "code",
   "execution_count": null,
   "metadata": {},
   "outputs": [],
   "source": []
  }
 ],
 "metadata": {
  "kernelspec": {
   "display_name": "Python 3",
   "language": "python",
   "name": "python3"
  },
  "language_info": {
   "codemirror_mode": {
    "name": "ipython",
    "version": 3
   },
   "file_extension": ".py",
   "mimetype": "text/x-python",
   "name": "python",
   "nbconvert_exporter": "python",
   "pygments_lexer": "ipython3",
   "version": "3.8.8"
  }
 },
 "nbformat": 4,
 "nbformat_minor": 4
}
