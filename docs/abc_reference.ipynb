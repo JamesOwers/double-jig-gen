{
 "cells": [
  {
   "cell_type": "code",
   "execution_count": 1,
   "metadata": {},
   "outputs": [],
   "source": [
    "from pathlib import Path"
   ]
  },
  {
   "cell_type": "markdown",
   "metadata": {},
   "source": [
    "# ABC quick reference\n",
    "\n",
    "This guide relates to how ABC is notated with relation to folk-rnn (which tokenizes input - it's not valid ABC)\n",
    "\n",
    "Download the [abcplus reference](http://abcplus.sourceforge.net/#ABCGuide) for more explanation.\n",
    "\n",
    "* `L:` - defines the note length for the piece, by default is 1/8 (a quaver)\n",
    "* `/2|[2-9]` - the length of the previous note (`/2` is half)\n",
    "* `^[note]`, `_[note]`, `=[note]` - sharp, flat, natural\n",
    "* `[C-G]|[A-B]` - Middle C (C4) to A4\n",
    "* `[c-g]|[a-b]` - C5 to A5\n",
    "* `[note]'{1,}` - nr `'` indicates nr octaves above\n",
    "* `[note],{1,}` - nr `,` indicates nr octaves below\n",
    "* `[note] > [note]` or `[n] < [n]` - points to shorter note, dots the other\n",
    "* `(3 ...)` - triplet grouping\n",
    "* `[ ... ]` - chord grouping"
   ]
  },
  {
   "cell_type": "markdown",
   "metadata": {},
   "source": [
    "# Examples"
   ]
  },
  {
   "cell_type": "code",
   "execution_count": 2,
   "metadata": {},
   "outputs": [],
   "source": [
    "data_path = Path(\"~\", \"git\", \"folk-rnn\", \"data\", \"data_v2\").expanduser()"
   ]
  },
  {
   "cell_type": "code",
   "execution_count": 3,
   "metadata": {},
   "outputs": [
    {
     "name": "stdout",
     "output_type": "stream",
     "text": [
      "M:6/8\n",
      "K:Cmix\n",
      "f > a c f 2 a | a > b c' a > g f | e 2 g c > e g | g > a b a > g f | f > a c f 2 a | a > b c' a > g f | e 2 g c > e g | f 3 f 2 :| c' 2 a f 2 a | a < c' a a > g f | e 2 g c > e g | g > a b a > g f | c' 2 a f 2 a | a < c' a a > g f | e 2 g c > e g | f 3 f 2 :| f 3 c > f a | a < c' a a > g f | e 3 c > e g | g > a b a > g f | f 3 c > f a | a < c' a a > g f | e 2 g c > e g | f 3 f 2 :| c' 2 c' c > f a | a < c' 3 a a > g f | e 2 g c > e g | g > a b a > g f | c' 2 c' c > f a | a < c' 3 a a > g f | e 2 g c > e g | f 3 f 2 :|\n",
      "--\n",
      "M:6/8\n",
      "K:Cmaj\n",
      "c < e G c 2 G | e > f g e d c | B < d G B 2 d | d > e f e d c | c < e G c 2 G | e > f g e d c | B > d g f > d B | c 3 c 2 :| g < G e c 2 G | e < g e e d c | B < d G B 2 d | d > e f e d c | g < G e c 2 G | e < g e e d c | B > d g f > d B | c 3 c 2 :| c 3 G > c e | e < g e e d c | B < d G B 2 d | d > e f e d c | c 3 G > c e | e < g e e d c | B > d g f > d B | c 3 c 2 :| g < G g G > c e | e < g e e d c | B < d G B 2 d | d > e f e d c | g < G g G > c e | e < g e e d c | B > d g f > d B | c 3 c 2 :|\n",
      "--\n",
      "M:4/4\n",
      "K:Cmaj\n"
     ]
    }
   ],
   "source": [
    "! grep \" < \" -B2 {data_path} | head"
   ]
  },
  {
   "cell_type": "code",
   "execution_count": 5,
   "metadata": {},
   "outputs": [
    {
     "name": "stdout",
     "output_type": "stream",
     "text": [
      "    1260\n"
     ]
    }
   ],
   "source": [
    "! grep \" < \" {data_path} | wc -l"
   ]
  },
  {
   "cell_type": "markdown",
   "metadata": {},
   "source": [
    "Lone numbers"
   ]
  },
  {
   "cell_type": "code",
   "execution_count": 11,
   "metadata": {},
   "outputs": [
    {
     "name": "stdout",
     "output_type": "stream",
     "text": [
      "M:9/8\n",
      "K:Cmaj\n",
      "G E E E 2 D E D C | G E E E F G A B c | G E E E 2 D E D C | A D D G E C D 2 A | G E E E 2 D E D C | G E E E F G A B c | G E E E 2 D E D C | A D D G E C D 2 D | E D E c 2 A B A G | E D E A /2 B /2 c A B 2 D | E D E c 2 A B A G | A D D D E G A 2 D | E D E c 2 A B A G | E D E A /2 B /2 c A B 2 B | G A B c B A B A G | A D D D E G A B c |\n",
      "--\n",
      "M:4/4\n",
      "K:Cmin\n",
      "f B B c f B c c | f B B c a f e c | f B B c f B c c | A 2 B c a f e c :| f 3 e f g a 2 | f 3 g a f e c | f 3 e f g a 2 | A 2 B c a f e c | f 3 e f g a 2 | f 3 g a f e c | f g a b a f a 2 | A B c A a f e c |\n",
      "--\n",
      "M:4/4\n",
      "K:Cdor\n"
     ]
    }
   ],
   "source": [
    "! grep \" [0-9] \" -B 2 {data_path} | head"
   ]
  },
  {
   "cell_type": "code",
   "execution_count": null,
   "metadata": {},
   "outputs": [],
   "source": []
  }
 ],
 "metadata": {
  "kernelspec": {
   "display_name": "Python 3",
   "language": "python",
   "name": "python3"
  },
  "language_info": {
   "codemirror_mode": {
    "name": "ipython",
    "version": 3
   },
   "file_extension": ".py",
   "mimetype": "text/x-python",
   "name": "python",
   "nbconvert_exporter": "python",
   "pygments_lexer": "ipython3",
   "version": "3.8.5"
  }
 },
 "nbformat": 4,
 "nbformat_minor": 4
}
