{
 "cells": [
  {
   "cell_type": "code",
   "execution_count": null,
   "metadata": {},
   "outputs": [],
   "source": [
    "from pathlib import Path"
   ]
  },
  {
   "cell_type": "markdown",
   "metadata": {},
   "source": [
    "# ABC quick reference\n",
    "\n",
    "This guide relates to how ABC is notated with relation to folk-rnn (which tokenizes input - it's not valid ABC)\n",
    "\n",
    "Download the [abcplus reference](http://abcplus.sourceforge.net/#ABCGuide) for more explanation.\n",
    "\n",
    "* `L:` - defines the note length for the piece, by default is 1/8 (a quaver)\n",
    "* `/2|[2-9]` - the length of the previous note (`/2` is half)\n",
    "* `^[note]`, `_[note]`, `=[note]` - sharp, flat, natural\n",
    "* `[C-G]|[A-B]` - Middle C (C4) to A4\n",
    "* `[c-g]|[a-b]` - C5 to A5\n",
    "* `[note]'{1,}` - nr `'` indicates nr octaves above\n",
    "* `[note],{1,}` - nr `,` indicates nr octaves below\n",
    "* `[note] > [note]` or `[n] < [n]` - points to shorter note, dots the other\n",
    "* `(3 ...)` - triplet grouping\n",
    "* `[ ... ]` - chord grouping"
   ]
  },
  {
   "cell_type": "markdown",
   "metadata": {},
   "source": [
    "# Examples"
   ]
  },
  {
   "cell_type": "code",
   "execution_count": null,
   "metadata": {},
   "outputs": [],
   "source": [
    "data_path = Path(\"~\", \"git\", \"folk-rnn\", \"data\", \"data_v2\").expanduser()"
   ]
  },
  {
   "cell_type": "code",
   "execution_count": null,
   "metadata": {},
   "outputs": [],
   "source": [
    "! grep \" < \" -B2 {data_path} | head"
   ]
  },
  {
   "cell_type": "code",
   "execution_count": null,
   "metadata": {},
   "outputs": [],
   "source": [
    "! grep \" < \" {data_path} | wc -l"
   ]
  },
  {
   "cell_type": "markdown",
   "metadata": {},
   "source": [
    "Lone numbers"
   ]
  },
  {
   "cell_type": "code",
   "execution_count": null,
   "metadata": {},
   "outputs": [],
   "source": [
    "! grep \" [0-9] \" -B 2 {data_path} | head"
   ]
  },
  {
   "cell_type": "code",
   "execution_count": null,
   "metadata": {},
   "outputs": [],
   "source": []
  }
 ],
 "metadata": {
  "kernelspec": {
   "display_name": "Python 3",
   "language": "python",
   "name": "python3"
  },
  "language_info": {
   "codemirror_mode": {
    "name": "ipython",
    "version": 3
   },
   "file_extension": ".py",
   "mimetype": "text/x-python",
   "name": "python",
   "nbconvert_exporter": "python",
   "pygments_lexer": "ipython3",
   "version": "3.8.8"
  }
 },
 "nbformat": 4,
 "nbformat_minor": 4
}
