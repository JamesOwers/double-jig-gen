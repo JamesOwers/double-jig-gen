{
 "cells": [
  {
   "cell_type": "code",
   "execution_count": 1,
   "metadata": {},
   "outputs": [],
   "source": [
    "from pathlib import Path"
   ]
  },
  {
   "cell_type": "markdown",
   "metadata": {},
   "source": [
    "# Folk RNN Notes\n",
    "\n",
    "* Runs on Python 2.7 (unsupported since Jan 1st 2020)\n",
    "* Neural net packages are Theano + Lasagne"
   ]
  },
  {
   "cell_type": "markdown",
   "metadata": {},
   "source": [
    "## Data\n",
    "\n",
    "Extract from [data/data_v2](https://github.com/IraKorshunova/folk-rnn/blob/master/data/data_v2), which is used for training:\n",
    "```\n",
    "M:9/8\n",
    "K:Cmaj\n",
    "G E E E 2 D E D C | G E E E F G A B c | G E E E 2 D E D C | A D D G E C D 2 A | G E E E 2 D E D C | G E E E F G A B c | G E E E 2 D E D C | A D D G E C D 2 D | E D E c 2 A B A G | E D E A /2 B /2 c A B 2 D | E D E c 2 A B A G | A D D D E G A 2 D | E D E c 2 A B A G | E D E A /2 B /2 c A B 2 B | G A B c B A B A G | A D D D E G A B c |\n",
    "\n",
    "M:4/4\n",
    "K:Cmin\n",
    "f B B c f B c c | f B B c a f e c | f B B c f B c c | A 2 B c a f e c :| f 3 e f g a 2 | f 3 g a f e c | f 3 e f g a 2 | A 2 B c a f e c | f 3 e f g a 2 | f 3 g a f e c | f g a b a f a 2 | A B c A a f e c |\n",
    "\n",
    "M:4/4\n",
    "K:Cdor\n",
    "|: c C C /2 C /2 C G C C /2 C /2 C | c C C /2 C /2 C B 2 A B | c C C /2 C /2 C G F =E G | F D B, D F G A B | c C C /2 C /2 C G C C /2 C /2 C | c C C /2 C /2 C B 2 A B | c A A G A c B G |1 F D B, D F G A B :| |2 F D B, D F 2 E F |: G 2 E G C G E G | G F G A B 2 A B | G 2 E G C G E G | F 2 D F B, F D F | G 2 [ E G ] 2 [ C G ] 2 [ E G ] G | G F G A B 2 A B | c A A G A c B G |1 F D B, D F 2 E\n",
    "...\n",
    "```"
   ]
  },
  {
   "cell_type": "markdown",
   "metadata": {},
   "source": [
    "Data to input is tokenized simply by splitting on whitespace\n",
    "* All tunes are 3 lines followed by a blank line (such that they can be split by '\\n\\n')\n",
    "* Everything has been transposed into C (in various modes - dorian, major, minor, and mixolydian)\n",
    "* I think\n",
    "    * slurs, ties, and staccato are removed since there is no `-`, nor `(` (without a subsequent number)\n",
    "    * all rests have been removed since there is no `Z` nor `z`\n",
    "    * all grace notes have been removed since there is no `~`, nor `{}`"
   ]
  },
  {
   "cell_type": "code",
   "execution_count": 2,
   "metadata": {},
   "outputs": [],
   "source": [
    "data_path = Path(\"~\", \"git\", \"folk-rnn\", \"data\", \"data_v2\").expanduser()\n",
    "with open(data_path, 'r') as f:\n",
    "    data = f.read()"
   ]
  },
  {
   "cell_type": "code",
   "execution_count": 3,
   "metadata": {},
   "outputs": [
    {
     "name": "stdout",
     "output_type": "stream",
     "text": [
      "vocabulary size: 137\n",
      "vocabulary (each token separated by a space): \n",
      "(2 (3 (4 (5 (6 (7 (9 /2 /2< /2> /3 /4 /8 12 16 2 2< 2> 3 3/2 3/4 4 4> 5 5/2 6 7 7/2 8 9 :| < </s> <s> =A =A, =B =B, =C =C, =D =E =E, =F =F, =G =G, =a =b =c =c' =d =e =e' =f =f' =g > A A, B B, C C, D D, E E, F F, G G, K:Cdor K:Cmaj K:Cmin K:Cmix M:12/8 M:2/4 M:3/2 M:3/4 M:4/4 M:6/8 M:9/8 [ ] ^A ^A, ^C ^C, ^D ^F ^F, ^G ^G, ^a ^c ^c' ^d ^f ^f' ^g _A _A, _B _B, _C _D _E _E, _G _a _b _c _d _d' _e _e' _g a a' b b' c c' d d' e e' f f' g g' z | |1 |2 |:\n"
     ]
    }
   ],
   "source": [
    "tokens_set = set(data.split())\n",
    "start_symbol, end_symbol = '<s>', '</s>'\n",
    "tokens_set.update({start_symbol, end_symbol})\n",
    "idx2token = list(tokens_set)\n",
    "vocab_size = len(idx2token)\n",
    "print(f\"vocabulary size: {vocab_size}\")\n",
    "print(f\"vocabulary (each token separated by a space): \\n{' '.join(sorted(tokens_set))}\")"
   ]
  },
  {
   "cell_type": "code",
   "execution_count": 4,
   "metadata": {},
   "outputs": [
    {
     "name": "stdout",
     "output_type": "stream",
     "text": [
      "number of tunes: 23636\n"
     ]
    }
   ],
   "source": [
    "token2idx = dict(zip(idx2token, range(vocab_size)))\n",
    "tunes = data.split('\\n\\n')\n",
    "print(f\"number of tunes: {len(tunes)}\")"
   ]
  },
  {
   "cell_type": "markdown",
   "metadata": {},
   "source": [
    "Therefore the 365 dataset will require preprocessing in the following way:\n",
    "* transpose all data to C\n",
    "* remove all metadata bar `M:` (meter), and `K:` (key)\n",
    "* remove all slurs, ties, and staccato\n",
    "* remove all rests\n",
    "* remove all grace notes"
   ]
  },
  {
   "cell_type": "code",
   "execution_count": null,
   "metadata": {},
   "outputs": [],
   "source": []
  }
 ],
 "metadata": {
  "kernelspec": {
   "display_name": "Python 3",
   "language": "python",
   "name": "python3"
  },
  "language_info": {
   "codemirror_mode": {
    "name": "ipython",
    "version": 3
   },
   "file_extension": ".py",
   "mimetype": "text/x-python",
   "name": "python",
   "nbconvert_exporter": "python",
   "pygments_lexer": "ipython3",
   "version": "3.8.5"
  }
 },
 "nbformat": 4,
 "nbformat_minor": 4
}
