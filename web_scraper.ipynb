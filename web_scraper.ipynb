{
 "cells": [
  {
   "cell_type": "code",
   "execution_count": 3,
   "id": "02701339-9651-45ad-affc-7da55a11f0bb",
   "metadata": {},
   "outputs": [
    {
     "name": "stdout",
     "output_type": "stream",
     "text": [
      "Collecting beautifulsoup4\n",
      "  Downloading beautifulsoup4-4.9.3-py3-none-any.whl (115 kB)\n",
      "\u001b[K     |████████████████████████████████| 115 kB 4.5 MB/s eta 0:00:01\n",
      "\u001b[?25hCollecting soupsieve>1.2\n",
      "  Downloading soupsieve-2.2.1-py3-none-any.whl (33 kB)\n",
      "Installing collected packages: soupsieve, beautifulsoup4\n",
      "Successfully installed beautifulsoup4-4.9.3 soupsieve-2.2.1\n"
     ]
    }
   ],
   "source": [
    "!pip install beautifulsoup4"
   ]
  },
  {
   "cell_type": "code",
   "execution_count": 169,
   "id": "c95bd30e-d4ed-49f6-b230-3a14c2b938e9",
   "metadata": {},
   "outputs": [],
   "source": [
    "import time\n",
    "from pathlib import Path\n",
    "from tqdm.notebook import tqdm\n",
    "\n",
    "import pandas as pd\n",
    "import requests\n",
    "from bs4 import BeautifulSoup"
   ]
  },
  {
   "cell_type": "code",
   "execution_count": 45,
   "id": "676cf8ce-6c39-450c-b6bd-0847dfbb1984",
   "metadata": {},
   "outputs": [],
   "source": [
    "basepath = Path(\"data\", \"raw\", \"thesession.org\")\n",
    "basepath.mkdir(exist_ok=True, parents=True)"
   ]
  },
  {
   "cell_type": "code",
   "execution_count": 52,
   "id": "bf2c3dba-8f6b-498f-96ac-a29e82f3692c",
   "metadata": {},
   "outputs": [
    {
     "name": "stdout",
     "output_type": "stream",
     "text": [
      "will take 1.3888888888888888 hours\n"
     ]
    }
   ],
   "source": [
    "max_tunes = 100_000\n",
    "max_requests_per_second = 20\n",
    "wait_time = 1/max_requests_per_second\n",
    "print(f\"will take {(max_tunes * wait_time)/60/60} hours\")\n",
    "url_format = \"https://thesession.org/tunes/{tune_nr}/abc/1000\""
   ]
  },
  {
   "cell_type": "code",
   "execution_count": 58,
   "id": "5881d148-cb8b-49b6-8900-b01f33563b9c",
   "metadata": {},
   "outputs": [
    {
     "data": {
      "application/vnd.jupyter.widget-view+json": {
       "model_id": "42246a09a9274cdf8a60638b20a72ed3",
       "version_major": 2,
       "version_minor": 0
      },
      "text/plain": [
       "  0%|          | 0/100000 [00:00<?, ?it/s]"
      ]
     },
     "metadata": {},
     "output_type": "display_data"
    }
   ],
   "source": [
    "for tune_nr in tqdm(range(1, max_tunes+1)):\n",
    "    path = basepath / Path(f\"{tune_nr:06}.abc\")\n",
    "    url = url_format.format(tune_nr=tune_nr)\n",
    "    page = requests.get(url)\n",
    "    soup = BeautifulSoup(page.content, \"html.parser\")\n",
    "    level1_headings = soup.h1\n",
    "    if level1_headings is None:\n",
    "        level1_headings_contents = []\n",
    "    else:\n",
    "        level1_headings_contents = level1_headings.contents\n",
    "    if not any(code in level1_headings_contents for code in ['404', '410']):\n",
    "        with open(path, \"w\") as file_handle:\n",
    "            file_handle.write(page.text)\n",
    "        time.sleep(wait_time)"
   ]
  },
  {
   "cell_type": "code",
   "execution_count": 61,
   "id": "5397a6ac-7b0e-4107-8d8a-ba108f9e41eb",
   "metadata": {},
   "outputs": [
    {
     "name": "stdout",
     "output_type": "stream",
     "text": [
      "000001.abc\n",
      "000002.abc\n",
      "000003.abc\n",
      "000004.abc\n",
      "000005.abc\n",
      "000006.abc\n",
      "000007.abc\n",
      "000008.abc\n",
      "000009.abc\n",
      "000010.abc\n",
      "ls: write error: Broken pipe\n"
     ]
    }
   ],
   "source": [
    "!ls {basepath} | head"
   ]
  },
  {
   "cell_type": "code",
   "execution_count": 62,
   "id": "3e9fd8b3-5b7a-44bc-aff4-f573e047fa1b",
   "metadata": {},
   "outputs": [],
   "source": [
    "path = Path(\"data\", \"raw\", \"thesession.org\")"
   ]
  },
  {
   "cell_type": "code",
   "execution_count": 63,
   "id": "8bda4a52-3a90-4348-ab8c-b4218b27fd91",
   "metadata": {},
   "outputs": [],
   "source": [
    "tune_numbers = [\n",
    "    int(abc_file.stem)\n",
    "    for abc_file in [\n",
    "        filepath for filepath in path.iterdir() if filepath.suffix == \".abc\"\n",
    "    ]\n",
    "]"
   ]
  },
  {
   "cell_type": "code",
   "execution_count": 64,
   "id": "2c936298-724b-445d-874a-77cd72f096cd",
   "metadata": {},
   "outputs": [
    {
     "data": {
      "text/plain": [
       "19037"
      ]
     },
     "execution_count": 64,
     "metadata": {},
     "output_type": "execute_result"
    }
   ],
   "source": [
    "len(tune_numbers)"
   ]
  },
  {
   "cell_type": "code",
   "execution_count": 65,
   "id": "c01b8178-c22b-4b15-919d-c1d5cd11783d",
   "metadata": {},
   "outputs": [
    {
     "data": {
      "text/plain": [
       "20903"
      ]
     },
     "execution_count": 65,
     "metadata": {},
     "output_type": "execute_result"
    }
   ],
   "source": [
    "max(tune_numbers)"
   ]
  },
  {
   "cell_type": "code",
   "execution_count": 70,
   "id": "ae39886c-afe0-446a-a2eb-1847392a8cf9",
   "metadata": {},
   "outputs": [
    {
     "data": {
      "text/plain": [
       "1866"
      ]
     },
     "execution_count": 70,
     "metadata": {},
     "output_type": "execute_result"
    }
   ],
   "source": [
    "missing_tunes = list(\n",
    "    set(range(1, max(tune_numbers)+1)).difference(tune_numbers)\n",
    ")\n",
    "len(missing_tunes)"
   ]
  },
  {
   "cell_type": "code",
   "execution_count": 73,
   "id": "3338053c-fb04-453b-9a3e-644dec52f8e2",
   "metadata": {},
   "outputs": [
    {
     "name": "stdout",
     "output_type": "stream",
     "text": [
      "https://thesession.org/tunes/8198/abc/1000\n",
      "https://thesession.org/tunes/8202/abc/1000\n",
      "https://thesession.org/tunes/8207/abc/1000\n",
      "https://thesession.org/tunes/8208/abc/1000\n",
      "https://thesession.org/tunes/8210/abc/1000\n",
      "https://thesession.org/tunes/8212/abc/1000\n",
      "https://thesession.org/tunes/8216/abc/1000\n",
      "https://thesession.org/tunes/25/abc/1000\n",
      "https://thesession.org/tunes/16409/abc/1000\n",
      "https://thesession.org/tunes/8221/abc/1000\n"
     ]
    }
   ],
   "source": [
    "for tune_nr in missing_tunes[:10]:\n",
    "    url = url_format.format(tune_nr=tune_nr)\n",
    "    print(url)\n",
    "    page = requests.get(url)\n",
    "    soup = BeautifulSoup(page.content, \"html.parser\")"
   ]
  },
  {
   "cell_type": "code",
   "execution_count": 74,
   "id": "9a66b480-70d2-4c01-9cd8-6a2fc5634316",
   "metadata": {},
   "outputs": [
    {
     "data": {
      "application/vnd.jupyter.widget-view+json": {
       "model_id": "ad748d8e36e24be997cbb6e5c0cbaf5b",
       "version_major": 2,
       "version_minor": 0
      },
      "text/plain": [
       "  0%|          | 0/19037 [00:00<?, ?it/s]"
      ]
     },
     "metadata": {},
     "output_type": "display_data"
    }
   ],
   "source": [
    "issue_tunes = {}\n",
    "for abc_file in tqdm([filepath for filepath in path.iterdir() if filepath.suffix == \".abc\"]):\n",
    "    tune_number = int(abc_file.stem)\n",
    "    with open(abc_file, \"r\") as fh:\n",
    "        file_content = fh.read().strip()\n",
    "        if file_content.startswith(\"<\"):\n",
    "            issue_tunes[tune_number] = file_content"
   ]
  },
  {
   "cell_type": "code",
   "execution_count": 75,
   "id": "ae09551b-925c-4e75-b0f9-03b072333dc9",
   "metadata": {},
   "outputs": [
    {
     "data": {
      "text/plain": [
       "584"
      ]
     },
     "execution_count": 75,
     "metadata": {},
     "output_type": "execute_result"
    }
   ],
   "source": [
    "len(issue_tunes)"
   ]
  },
  {
   "cell_type": "code",
   "execution_count": null,
   "id": "3ca879cc-0843-4c55-be14-45bcba7e6310",
   "metadata": {},
   "outputs": [],
   "source": [
    "for tune_nr, html in issue_tunes.items():\n",
    "    print(f\"https://thesession.org/tunes/{tune_nr}\")\n",
    "    print(html)\n",
    "    with open(f\"test_{tune_nr}.html\", \"w\") as fh:\n",
    "        fh.write(html)\n",
    "    break"
   ]
  },
  {
   "cell_type": "code",
   "execution_count": 166,
   "id": "3cf19dde-412f-4400-a289-409f45047034",
   "metadata": {
    "tags": []
   },
   "outputs": [
    {
     "data": {
      "application/vnd.jupyter.widget-view+json": {
       "model_id": "cd844364022f4983bc847610902bd5b4",
       "version_major": 2,
       "version_minor": 0
      },
      "text/plain": [
       "  0%|          | 0/584 [00:00<?, ?it/s]"
      ]
     },
     "metadata": {},
     "output_type": "display_data"
    }
   ],
   "source": [
    "for tune_nr in tqdm(issue_tunes):\n",
    "    path = basepath / Path(f\"{tune_nr:06}.abc\")\n",
    "    url = f\"https://thesession.org/tunes/{tune_nr}\"\n",
    "    page = requests.get(url, allow_redirects=True)\n",
    "    soup = BeautifulSoup(page.content, \"html.parser\")\n",
    "    level1_headings = soup.h1\n",
    "    if level1_headings is None:\n",
    "        level1_headings_contents = []\n",
    "    else:\n",
    "        level1_headings_contents = level1_headings.contents\n",
    "    if not any(code in level1_headings_contents for code in ['404', '410']):\n",
    "        with open(path, \"w\") as file_handle:\n",
    "            tune_tags = soup.find_all(\"div\", {\"class\": \"notes\"})\n",
    "            text = \"\\n\\n\".join(\n",
    "                \"\".join(\n",
    "                    tune_string.replace(\"\\r\", \"\\n\") for tune_string in tag.strings\n",
    "                ).replace(\"\\n\\n\", \"\\n\").strip()\n",
    "                for tag in tune_tags\n",
    "            )\n",
    "            file_handle.write(text)\n",
    "        time.sleep(wait_time)"
   ]
  },
  {
   "cell_type": "code",
   "execution_count": 171,
   "id": "b774f360-6306-4d71-a5b4-8c02875d8343",
   "metadata": {},
   "outputs": [
    {
     "data": {
      "application/vnd.jupyter.widget-view+json": {
       "model_id": "37fb3e4a15cc47fe8ed96b4ee995baa5",
       "version_major": 2,
       "version_minor": 0
      },
      "text/plain": [
       "  0%|          | 0/19037 [00:00<?, ?it/s]"
      ]
     },
     "metadata": {},
     "output_type": "display_data"
    }
   ],
   "source": [
    "abc_tunes = {}\n",
    "issue_tunes = {}\n",
    "for abc_file in tqdm([filepath for filepath in basepath.iterdir() if filepath.suffix == \".abc\"]):\n",
    "    tune_number = int(abc_file.stem)\n",
    "    with open(abc_file, \"r\") as fh:\n",
    "        file_content = fh.read().strip()\n",
    "        if file_content.startswith(\"<\"):\n",
    "            issue_tunes[tune_number] = file_content\n",
    "        else:\n",
    "            tunes = {\n",
    "                (tune_number, setting_number + 1): tune.strip()\n",
    "                for setting_number, tune\n",
    "                in enumerate(file_content.split(\"\\n\\n\"))\n",
    "            }\n",
    "    abc_tunes.update(tunes)"
   ]
  },
  {
   "cell_type": "code",
   "execution_count": 172,
   "id": "54c8ad94-febc-4102-8d3c-c296d0f17243",
   "metadata": {},
   "outputs": [],
   "source": [
    "tunes_df = pd.DataFrame(\n",
    "    abc_tunes.values(),\n",
    "    index=pd.MultiIndex.from_tuples(\n",
    "        abc_tunes.keys(), names=[\"tune_number\", \"setting_number\"]\n",
    "    ),\n",
    "    columns=[\"tune_str\"],\n",
    ")"
   ]
  },
  {
   "cell_type": "code",
   "execution_count": 173,
   "id": "75ea99ca-1814-4263-bc9d-a44481767024",
   "metadata": {},
   "outputs": [],
   "source": [
    "outdir = Path(\"data\", \"derived\", \"thesession.org\")\n",
    "outdir.mkdir(exist_ok=True, parents=True)\n",
    "tunes_df.to_csv(outdir / Path(\"all_tunes.csv\"))"
   ]
  },
  {
   "cell_type": "code",
   "execution_count": 178,
   "id": "73d288a8-645b-450b-b521-3afed2c2a767",
   "metadata": {},
   "outputs": [],
   "source": [
    "with open(outdir / Path(\"all_tunes.abc\"), \"w\") as fh:\n",
    "    fh.write(\"\\n\\n\".join(tunes_df[\"tune_str\"].squeeze()))"
   ]
  },
  {
   "cell_type": "markdown",
   "id": "44209ea8-ea3e-4a90-92cb-76b9be009321",
   "metadata": {},
   "source": [
    "# Appendix"
   ]
  },
  {
   "cell_type": "code",
   "execution_count": 167,
   "id": "7f8d06c2-d356-4a0d-8ba2-587db1c20f57",
   "metadata": {},
   "outputs": [
    {
     "name": "stdout",
     "output_type": "stream",
     "text": [
      "http://thesession.org/tunes/218\n"
     ]
    }
   ],
   "source": [
    "tune_nr = 218\n",
    "url = f\"http://thesession.org/tunes/{tune_nr}\"\n",
    "print(url)\n",
    "page = requests.get(url, allow_redirects=True)"
   ]
  },
  {
   "cell_type": "code",
   "execution_count": 168,
   "id": "97bcf21f-9382-4e82-9d38-a447b2fbe1bb",
   "metadata": {
    "tags": []
   },
   "outputs": [
    {
     "name": "stdout",
     "output_type": "stream",
     "text": [
      "X: 1\n",
      "T: Mairtin O'Connor's Flying Clog\n",
      "R: reel\n",
      "M: 4/4\n",
      "L: 1/8\n",
      "K: Gmaj\n",
      "|:G2 (3GGG dGBd|eGce dBAB|G2 (3GGG BGAB|cE (3EEE GEDE|\n",
      "|G2 (3GGG dBGd|eGce dBAB|cE (3EEE GECE|1 DFAc BcAB:|2 DFAc BGGA||\n",
      "|:Bd (3ddd edgd|edgd egdc|Bd (3ddd edgd|eaag fedc|\n",
      "|BcdB ~c3 E|(3EEE cE DGBG|cE (3EEE GECE|1 DFAc BGGA:|2 DFAc BcAB||\n",
      "\n",
      "X: 2\n",
      "T: Mairtin O'Connor's Flying Clog\n",
      "R: reel\n",
      "M: 4/4\n",
      "L: 1/8\n",
      "K: Fmaj\n",
      "|:F2 (3FFF cFAc|dFBd cAGA|F2 (3FFF AFGA|BD (3DDD FDCD|\n",
      "|F2 (3FFF cFAc|dFBd cAGA|BD (3DDD FDB,D|1 CEGB ABGA:|2 CEGB AFFG||\n",
      "|:Ac (3ccc dcfc|dcfc dfcB|Ac (3ccc dcfc|dggf edcB|\n",
      "|ABcA ~B3 D|(3DDD BD CFAF|BD (3DDD FDB,D|1 CEGB AFFG:|2 CEGB ABGA||\n",
      "\n",
      "X: 3\n",
      "T: Mairtin O'Connor's Flying Clog\n",
      "R: reel\n",
      "M: 4/4\n",
      "L: 1/8\n",
      "K: Gmaj\n",
      "|: G,2 G,/G,/G, DG,B,D | EG,CE DB,A,B, | G,2 G,/G,/G, B,G,A,B, | \"D\" C \"U\" E, \"D\" E,/E,/E, G,E,D,E, |\n",
      "G,2 G,/G,/G, DG,B,D | EG,CE DB,A,B, | \"U\" C \"D\" E, \"D\" E,/E,/E, G,E,D,E, |1 D,F,A,D B,DA,B, :|\n",
      "|: B,D D/D/D EDGD | ED GD EG DC | B,D D/D/D EDGD | EAAG FEDC | \n",
      "B,CDB, B,CCE, | E,/E,/E, CE, D,D,B,D, | CE, E,/E,/E, G,E,D,E, |1 D,F,A,D B,G,G,A, :|\n",
      "|: G2 G/G/G dGBd | eGce dBAB | G2 G/G/G BGAB | cE E/E/E GEDE | \n",
      "G2 G/G/G dGBd | eGce dBAB | cE E/E/E GEDE |1 DFAd BdAB :|\n",
      "|: Bd d/d/d edgd | edgd egdc | Bd d/d/d edgd | eaag fedc | \n",
      "BcdB BccE | E/E/E cE DDBD | cE E/E/E GEDE |1 DFAd BGGA :|\n",
      "\n",
      "X: 4\n",
      "T: Mairtin O'Connor's Flying Clog\n",
      "R: reel\n",
      "M: 4/4\n",
      "L: 1/8\n",
      "K: Dmaj\n",
      "|: D2 D/D/D ADFA | BDGB AFEF | D2 D/D/D FDEF | \"A\"G\"U\"B, \"A\"B,/B,/B, DB,A,B, | \n",
      "D2 D/D/D ADFA | BDGB AFEF | \"U\"G\"A\"B, \"A\"B,/B,/B, DB,A,B, |1 A,CEA FAEF :|\n",
      "|: FA A/A/A BAdA | BAdA BdAG | FA A/A/A BAdA | Beed cBAG | \n",
      "FGAF FGGB, | B,/B,/B, GB, A,A,FA, | GB, B,/B,/B, DB,A,B, |1 A,CEA FDDE :|\n",
      "\n",
      "X: 5\n",
      "T: Mairtin O'Connor's Flying Clog\n",
      "R: reel\n",
      "M: 4/4\n",
      "L: 1/8\n",
      "K: Gmaj\n",
      "G2 (3GGG d>GB>d | e>Gc>e d>BA>B | G2 (3GGG B>GA>B | c>E (3EEE G>E (3DEF | \n",
      "G2 G>B d>G (3Bcd | e>Gc>e d2 (3cBA | c>E (3EEE G>E (3EEE | D>FA>d B>d :|\n",
      "G>d (3ddd e>d (3ddd | e>dg>d e>gd>c | B>d (3ddd e>d g2 | e>aa>g (3fed c>A | \n",
      "(3Bcd G>B B>c (3ccA | (3EEE c>E D>GB>G | c>E (3EEE G>E (3EEE | D>FA>d B>d :|\n",
      "\n",
      "X: 6\n",
      "T: Mairtin O'Connor's Flying Clog\n",
      "R: reel\n",
      "M: 4/4\n",
      "L: 1/8\n",
      "K: Gmaj\n",
      "G2 GB dGBd | eGce dBAB | G2 Gd BGAB | cE E2 GEDF | \n",
      "G2 GB dGBd | eGce d2 cA | cE E2 GEDE | DFAd BG :|\n",
      "Gd d2 edgd | edgd egdc | Bd d2 edgd | eaag fdcA | \n",
      "BcdB BccA | E2 cE DGBG | cE E2 GEDE | DFAd BG :|\n",
      "\n",
      "X: 7\n",
      "T: Mairtin O'Connor's Flying Clog\n",
      "R: reel\n",
      "M: 4/4\n",
      "L: 1/8\n",
      "K: Gmaj\n",
      "|:G3B dGBd|eGce dcBA|FG3 BGAB|cE3 GEDE|\n",
      "G2eG dGBd|edce dcAB|cE3 GECE|1 DFAc BGAF:|2 DFAc BGGA||\n",
      "|:Bd3 edgd|edgd egdc|Bd3 edgd|eaag fedc|\n",
      "BcdB c3E|E2cE D2BD|cE3 GECE|1 DFAc BGGA:|2 DFAc BGGF||\n",
      "\n",
      "X: 8\n",
      "T: Mairtin O'Connor's Flying Clog\n",
      "R: reel\n",
      "M: 4/4\n",
      "L: 1/8\n",
      "K: Gmaj\n",
      "|:G2 (3GGG dGBd|(cBc)e dBAB|G2 (3GGG BGAB|(cE) (3EEE GEDE|\n",
      "|G2 (3GGG dGBd|(cBc)e dBAB|(cE) (3EEE GECE|1 DFAc BcAB:|2 DFAc BGGA||\n",
      "|:(Bd) (3ddd edgd|edgd egdc|(Bd) (3ddd edgd|eaag fedc|\n",
      "|BcdB ~c3 E|(3EEE (cE) DGBG|(cE) (3EEE GECE|1 DFAc BGGA:|2 DFAc BcAB||\n"
     ]
    }
   ],
   "source": [
    "page.text\n",
    "soup = BeautifulSoup(page.content, \"html.parser\")\n",
    "tune_tags = soup.find_all(\"div\", {\"class\": \"notes\"})\n",
    "tune_strings = \"\\n\\n\".join(\n",
    "    \"\".join([s.replace(\"\\r\", \"\\n\") for s in tag.strings]).replace(\"\\n\\n\", \"\\n\").strip()\n",
    "    for tag in tune_tags\n",
    ")\n",
    "print(tune_strings)"
   ]
  },
  {
   "cell_type": "code",
   "execution_count": null,
   "id": "b57e9b6e-aa0a-49bb-8ba8-d5d4b609ebbe",
   "metadata": {},
   "outputs": [],
   "source": []
  }
 ],
 "metadata": {
  "kernelspec": {
   "display_name": "Python 3",
   "language": "python",
   "name": "python3"
  },
  "language_info": {
   "codemirror_mode": {
    "name": "ipython",
    "version": 3
   },
   "file_extension": ".py",
   "mimetype": "text/x-python",
   "name": "python",
   "nbconvert_exporter": "python",
   "pygments_lexer": "ipython3",
   "version": "3.8.10"
  }
 },
 "nbformat": 4,
 "nbformat_minor": 5
}
