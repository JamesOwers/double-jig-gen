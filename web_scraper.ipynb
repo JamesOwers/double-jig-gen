{
 "cells": [
  {
   "cell_type": "code",
   "execution_count": 1,
   "id": "d96967c8",
   "metadata": {},
   "outputs": [],
   "source": [
    "import time\n",
    "from pathlib import Path\n",
    "from tqdm.notebook import tqdm\n",
    "\n",
    "import pandas as pd\n",
    "import requests\n",
    "from bs4 import BeautifulSoup"
   ]
  },
  {
   "cell_type": "code",
   "execution_count": 2,
   "id": "dc516589",
   "metadata": {},
   "outputs": [],
   "source": [
    "basepath = Path(\"data\", \"raw\", \"thesession.org\")\n",
    "basepath.mkdir(exist_ok=True, parents=True)"
   ]
  },
  {
   "cell_type": "code",
   "execution_count": 4,
   "id": "3c8633ed",
   "metadata": {},
   "outputs": [
    {
     "name": "stdout",
     "output_type": "stream",
     "text": [
      "will take 1.3888888888888888 hours\n"
     ]
    }
   ],
   "source": [
    "max_tunes = 100_000\n",
    "max_requests_per_second = 20\n",
    "wait_time = 1/max_requests_per_second\n",
    "print(f\"will take {(max_tunes * wait_time)/60/60} hours\")"
   ]
  },
  {
   "cell_type": "code",
   "execution_count": 5,
   "id": "c0216706",
   "metadata": {},
   "outputs": [
    {
     "data": {
      "application/vnd.jupyter.widget-view+json": {
       "model_id": "6ddae4cfa33b4d9e91d12bc73cfbbb2d",
       "version_major": 2,
       "version_minor": 0
      },
      "text/plain": [
       "  0%|          | 0/100000 [00:00<?, ?it/s]"
      ]
     },
     "metadata": {},
     "output_type": "display_data"
    },
    {
     "ename": "KeyboardInterrupt",
     "evalue": "",
     "output_type": "error",
     "traceback": [
      "\u001b[0;31m---------------------------------------------------------------------------\u001b[0m",
      "\u001b[0;31mKeyboardInterrupt\u001b[0m                         Traceback (most recent call last)",
      "\u001b[0;32m/var/folders/j8/q_7w1cjx7d96q7kz3g164nnh0000gn/T/ipykernel_15203/4252891749.py\u001b[0m in \u001b[0;36m<module>\u001b[0;34m\u001b[0m\n\u001b[1;32m      4\u001b[0m \u001b[0;31m#     url = f\"https://thesession.org/tunes/{tune_nr}/abc/1000\"\u001b[0m\u001b[0;34m\u001b[0m\u001b[0;34m\u001b[0m\u001b[0;34m\u001b[0m\u001b[0m\n\u001b[1;32m      5\u001b[0m     \u001b[0murl\u001b[0m \u001b[0;34m=\u001b[0m \u001b[0;34mf\"https://thesession.org/tunes/{tune_nr}\"\u001b[0m\u001b[0;34m\u001b[0m\u001b[0;34m\u001b[0m\u001b[0m\n\u001b[0;32m----> 6\u001b[0;31m     \u001b[0mpage\u001b[0m \u001b[0;34m=\u001b[0m \u001b[0mrequests\u001b[0m\u001b[0;34m.\u001b[0m\u001b[0mget\u001b[0m\u001b[0;34m(\u001b[0m\u001b[0murl\u001b[0m\u001b[0;34m,\u001b[0m \u001b[0mallow_redirects\u001b[0m\u001b[0;34m=\u001b[0m\u001b[0;32mTrue\u001b[0m\u001b[0;34m)\u001b[0m\u001b[0;34m\u001b[0m\u001b[0;34m\u001b[0m\u001b[0m\n\u001b[0m\u001b[1;32m      7\u001b[0m     \u001b[0msoup\u001b[0m \u001b[0;34m=\u001b[0m \u001b[0mBeautifulSoup\u001b[0m\u001b[0;34m(\u001b[0m\u001b[0mpage\u001b[0m\u001b[0;34m.\u001b[0m\u001b[0mcontent\u001b[0m\u001b[0;34m,\u001b[0m \u001b[0;34m\"html.parser\"\u001b[0m\u001b[0;34m)\u001b[0m\u001b[0;34m\u001b[0m\u001b[0;34m\u001b[0m\u001b[0m\n\u001b[1;32m      8\u001b[0m     \u001b[0mlevel1_headings\u001b[0m \u001b[0;34m=\u001b[0m \u001b[0msoup\u001b[0m\u001b[0;34m.\u001b[0m\u001b[0mh1\u001b[0m\u001b[0;34m\u001b[0m\u001b[0;34m\u001b[0m\u001b[0m\n",
      "\u001b[0;32m~/opt/miniconda3/envs/double-jig-gen-dev/lib/python3.8/site-packages/requests/api.py\u001b[0m in \u001b[0;36mget\u001b[0;34m(url, params, **kwargs)\u001b[0m\n\u001b[1;32m     73\u001b[0m     \"\"\"\n\u001b[1;32m     74\u001b[0m \u001b[0;34m\u001b[0m\u001b[0m\n\u001b[0;32m---> 75\u001b[0;31m     \u001b[0;32mreturn\u001b[0m \u001b[0mrequest\u001b[0m\u001b[0;34m(\u001b[0m\u001b[0;34m'get'\u001b[0m\u001b[0;34m,\u001b[0m \u001b[0murl\u001b[0m\u001b[0;34m,\u001b[0m \u001b[0mparams\u001b[0m\u001b[0;34m=\u001b[0m\u001b[0mparams\u001b[0m\u001b[0;34m,\u001b[0m \u001b[0;34m**\u001b[0m\u001b[0mkwargs\u001b[0m\u001b[0;34m)\u001b[0m\u001b[0;34m\u001b[0m\u001b[0;34m\u001b[0m\u001b[0m\n\u001b[0m\u001b[1;32m     76\u001b[0m \u001b[0;34m\u001b[0m\u001b[0m\n\u001b[1;32m     77\u001b[0m \u001b[0;34m\u001b[0m\u001b[0m\n",
      "\u001b[0;32m~/opt/miniconda3/envs/double-jig-gen-dev/lib/python3.8/site-packages/requests/api.py\u001b[0m in \u001b[0;36mrequest\u001b[0;34m(method, url, **kwargs)\u001b[0m\n\u001b[1;32m     59\u001b[0m     \u001b[0;31m# cases, and look like a memory leak in others.\u001b[0m\u001b[0;34m\u001b[0m\u001b[0;34m\u001b[0m\u001b[0;34m\u001b[0m\u001b[0m\n\u001b[1;32m     60\u001b[0m     \u001b[0;32mwith\u001b[0m \u001b[0msessions\u001b[0m\u001b[0;34m.\u001b[0m\u001b[0mSession\u001b[0m\u001b[0;34m(\u001b[0m\u001b[0;34m)\u001b[0m \u001b[0;32mas\u001b[0m \u001b[0msession\u001b[0m\u001b[0;34m:\u001b[0m\u001b[0;34m\u001b[0m\u001b[0;34m\u001b[0m\u001b[0m\n\u001b[0;32m---> 61\u001b[0;31m         \u001b[0;32mreturn\u001b[0m \u001b[0msession\u001b[0m\u001b[0;34m.\u001b[0m\u001b[0mrequest\u001b[0m\u001b[0;34m(\u001b[0m\u001b[0mmethod\u001b[0m\u001b[0;34m=\u001b[0m\u001b[0mmethod\u001b[0m\u001b[0;34m,\u001b[0m \u001b[0murl\u001b[0m\u001b[0;34m=\u001b[0m\u001b[0murl\u001b[0m\u001b[0;34m,\u001b[0m \u001b[0;34m**\u001b[0m\u001b[0mkwargs\u001b[0m\u001b[0;34m)\u001b[0m\u001b[0;34m\u001b[0m\u001b[0;34m\u001b[0m\u001b[0m\n\u001b[0m\u001b[1;32m     62\u001b[0m \u001b[0;34m\u001b[0m\u001b[0m\n\u001b[1;32m     63\u001b[0m \u001b[0;34m\u001b[0m\u001b[0m\n",
      "\u001b[0;32m~/opt/miniconda3/envs/double-jig-gen-dev/lib/python3.8/site-packages/requests/sessions.py\u001b[0m in \u001b[0;36mrequest\u001b[0;34m(self, method, url, params, data, headers, cookies, files, auth, timeout, allow_redirects, proxies, hooks, stream, verify, cert, json)\u001b[0m\n\u001b[1;32m    540\u001b[0m         }\n\u001b[1;32m    541\u001b[0m         \u001b[0msend_kwargs\u001b[0m\u001b[0;34m.\u001b[0m\u001b[0mupdate\u001b[0m\u001b[0;34m(\u001b[0m\u001b[0msettings\u001b[0m\u001b[0;34m)\u001b[0m\u001b[0;34m\u001b[0m\u001b[0;34m\u001b[0m\u001b[0m\n\u001b[0;32m--> 542\u001b[0;31m         \u001b[0mresp\u001b[0m \u001b[0;34m=\u001b[0m \u001b[0mself\u001b[0m\u001b[0;34m.\u001b[0m\u001b[0msend\u001b[0m\u001b[0;34m(\u001b[0m\u001b[0mprep\u001b[0m\u001b[0;34m,\u001b[0m \u001b[0;34m**\u001b[0m\u001b[0msend_kwargs\u001b[0m\u001b[0;34m)\u001b[0m\u001b[0;34m\u001b[0m\u001b[0;34m\u001b[0m\u001b[0m\n\u001b[0m\u001b[1;32m    543\u001b[0m \u001b[0;34m\u001b[0m\u001b[0m\n\u001b[1;32m    544\u001b[0m         \u001b[0;32mreturn\u001b[0m \u001b[0mresp\u001b[0m\u001b[0;34m\u001b[0m\u001b[0;34m\u001b[0m\u001b[0m\n",
      "\u001b[0;32m~/opt/miniconda3/envs/double-jig-gen-dev/lib/python3.8/site-packages/requests/sessions.py\u001b[0m in \u001b[0;36msend\u001b[0;34m(self, request, **kwargs)\u001b[0m\n\u001b[1;32m    653\u001b[0m \u001b[0;34m\u001b[0m\u001b[0m\n\u001b[1;32m    654\u001b[0m         \u001b[0;31m# Send the request\u001b[0m\u001b[0;34m\u001b[0m\u001b[0;34m\u001b[0m\u001b[0;34m\u001b[0m\u001b[0m\n\u001b[0;32m--> 655\u001b[0;31m         \u001b[0mr\u001b[0m \u001b[0;34m=\u001b[0m \u001b[0madapter\u001b[0m\u001b[0;34m.\u001b[0m\u001b[0msend\u001b[0m\u001b[0;34m(\u001b[0m\u001b[0mrequest\u001b[0m\u001b[0;34m,\u001b[0m \u001b[0;34m**\u001b[0m\u001b[0mkwargs\u001b[0m\u001b[0;34m)\u001b[0m\u001b[0;34m\u001b[0m\u001b[0;34m\u001b[0m\u001b[0m\n\u001b[0m\u001b[1;32m    656\u001b[0m \u001b[0;34m\u001b[0m\u001b[0m\n\u001b[1;32m    657\u001b[0m         \u001b[0;31m# Total elapsed time of the request (approximately)\u001b[0m\u001b[0;34m\u001b[0m\u001b[0;34m\u001b[0m\u001b[0;34m\u001b[0m\u001b[0m\n",
      "\u001b[0;32m~/opt/miniconda3/envs/double-jig-gen-dev/lib/python3.8/site-packages/requests/adapters.py\u001b[0m in \u001b[0;36msend\u001b[0;34m(self, request, stream, timeout, verify, cert, proxies)\u001b[0m\n\u001b[1;32m    437\u001b[0m         \u001b[0;32mtry\u001b[0m\u001b[0;34m:\u001b[0m\u001b[0;34m\u001b[0m\u001b[0;34m\u001b[0m\u001b[0m\n\u001b[1;32m    438\u001b[0m             \u001b[0;32mif\u001b[0m \u001b[0;32mnot\u001b[0m \u001b[0mchunked\u001b[0m\u001b[0;34m:\u001b[0m\u001b[0;34m\u001b[0m\u001b[0;34m\u001b[0m\u001b[0m\n\u001b[0;32m--> 439\u001b[0;31m                 resp = conn.urlopen(\n\u001b[0m\u001b[1;32m    440\u001b[0m                     \u001b[0mmethod\u001b[0m\u001b[0;34m=\u001b[0m\u001b[0mrequest\u001b[0m\u001b[0;34m.\u001b[0m\u001b[0mmethod\u001b[0m\u001b[0;34m,\u001b[0m\u001b[0;34m\u001b[0m\u001b[0;34m\u001b[0m\u001b[0m\n\u001b[1;32m    441\u001b[0m                     \u001b[0murl\u001b[0m\u001b[0;34m=\u001b[0m\u001b[0murl\u001b[0m\u001b[0;34m,\u001b[0m\u001b[0;34m\u001b[0m\u001b[0;34m\u001b[0m\u001b[0m\n",
      "\u001b[0;32m~/opt/miniconda3/envs/double-jig-gen-dev/lib/python3.8/site-packages/urllib3/connectionpool.py\u001b[0m in \u001b[0;36murlopen\u001b[0;34m(self, method, url, body, headers, retries, redirect, assert_same_host, timeout, pool_timeout, release_conn, chunked, body_pos, **response_kw)\u001b[0m\n\u001b[1;32m    697\u001b[0m \u001b[0;34m\u001b[0m\u001b[0m\n\u001b[1;32m    698\u001b[0m             \u001b[0;31m# Make the request on the httplib connection object.\u001b[0m\u001b[0;34m\u001b[0m\u001b[0;34m\u001b[0m\u001b[0;34m\u001b[0m\u001b[0m\n\u001b[0;32m--> 699\u001b[0;31m             httplib_response = self._make_request(\n\u001b[0m\u001b[1;32m    700\u001b[0m                 \u001b[0mconn\u001b[0m\u001b[0;34m,\u001b[0m\u001b[0;34m\u001b[0m\u001b[0;34m\u001b[0m\u001b[0m\n\u001b[1;32m    701\u001b[0m                 \u001b[0mmethod\u001b[0m\u001b[0;34m,\u001b[0m\u001b[0;34m\u001b[0m\u001b[0;34m\u001b[0m\u001b[0m\n",
      "\u001b[0;32m~/opt/miniconda3/envs/double-jig-gen-dev/lib/python3.8/site-packages/urllib3/connectionpool.py\u001b[0m in \u001b[0;36m_make_request\u001b[0;34m(self, conn, method, url, timeout, chunked, **httplib_request_kw)\u001b[0m\n\u001b[1;32m    380\u001b[0m         \u001b[0;31m# Trigger any extra validation we need to do.\u001b[0m\u001b[0;34m\u001b[0m\u001b[0;34m\u001b[0m\u001b[0;34m\u001b[0m\u001b[0m\n\u001b[1;32m    381\u001b[0m         \u001b[0;32mtry\u001b[0m\u001b[0;34m:\u001b[0m\u001b[0;34m\u001b[0m\u001b[0;34m\u001b[0m\u001b[0m\n\u001b[0;32m--> 382\u001b[0;31m             \u001b[0mself\u001b[0m\u001b[0;34m.\u001b[0m\u001b[0m_validate_conn\u001b[0m\u001b[0;34m(\u001b[0m\u001b[0mconn\u001b[0m\u001b[0;34m)\u001b[0m\u001b[0;34m\u001b[0m\u001b[0;34m\u001b[0m\u001b[0m\n\u001b[0m\u001b[1;32m    383\u001b[0m         \u001b[0;32mexcept\u001b[0m \u001b[0;34m(\u001b[0m\u001b[0mSocketTimeout\u001b[0m\u001b[0;34m,\u001b[0m \u001b[0mBaseSSLError\u001b[0m\u001b[0;34m)\u001b[0m \u001b[0;32mas\u001b[0m \u001b[0me\u001b[0m\u001b[0;34m:\u001b[0m\u001b[0;34m\u001b[0m\u001b[0;34m\u001b[0m\u001b[0m\n\u001b[1;32m    384\u001b[0m             \u001b[0;31m# Py2 raises this as a BaseSSLError, Py3 raises it as socket timeout.\u001b[0m\u001b[0;34m\u001b[0m\u001b[0;34m\u001b[0m\u001b[0;34m\u001b[0m\u001b[0m\n",
      "\u001b[0;32m~/opt/miniconda3/envs/double-jig-gen-dev/lib/python3.8/site-packages/urllib3/connectionpool.py\u001b[0m in \u001b[0;36m_validate_conn\u001b[0;34m(self, conn)\u001b[0m\n\u001b[1;32m   1008\u001b[0m         \u001b[0;31m# Force connect early to allow us to validate the connection.\u001b[0m\u001b[0;34m\u001b[0m\u001b[0;34m\u001b[0m\u001b[0;34m\u001b[0m\u001b[0m\n\u001b[1;32m   1009\u001b[0m         \u001b[0;32mif\u001b[0m \u001b[0;32mnot\u001b[0m \u001b[0mgetattr\u001b[0m\u001b[0;34m(\u001b[0m\u001b[0mconn\u001b[0m\u001b[0;34m,\u001b[0m \u001b[0;34m\"sock\"\u001b[0m\u001b[0;34m,\u001b[0m \u001b[0;32mNone\u001b[0m\u001b[0;34m)\u001b[0m\u001b[0;34m:\u001b[0m  \u001b[0;31m# AppEngine might not have  `.sock`\u001b[0m\u001b[0;34m\u001b[0m\u001b[0;34m\u001b[0m\u001b[0m\n\u001b[0;32m-> 1010\u001b[0;31m             \u001b[0mconn\u001b[0m\u001b[0;34m.\u001b[0m\u001b[0mconnect\u001b[0m\u001b[0;34m(\u001b[0m\u001b[0;34m)\u001b[0m\u001b[0;34m\u001b[0m\u001b[0;34m\u001b[0m\u001b[0m\n\u001b[0m\u001b[1;32m   1011\u001b[0m \u001b[0;34m\u001b[0m\u001b[0m\n\u001b[1;32m   1012\u001b[0m         \u001b[0;32mif\u001b[0m \u001b[0;32mnot\u001b[0m \u001b[0mconn\u001b[0m\u001b[0;34m.\u001b[0m\u001b[0mis_verified\u001b[0m\u001b[0;34m:\u001b[0m\u001b[0;34m\u001b[0m\u001b[0;34m\u001b[0m\u001b[0m\n",
      "\u001b[0;32m~/opt/miniconda3/envs/double-jig-gen-dev/lib/python3.8/site-packages/urllib3/connection.py\u001b[0m in \u001b[0;36mconnect\u001b[0;34m(self)\u001b[0m\n\u001b[1;32m    351\u001b[0m     \u001b[0;32mdef\u001b[0m \u001b[0mconnect\u001b[0m\u001b[0;34m(\u001b[0m\u001b[0mself\u001b[0m\u001b[0;34m)\u001b[0m\u001b[0;34m:\u001b[0m\u001b[0;34m\u001b[0m\u001b[0;34m\u001b[0m\u001b[0m\n\u001b[1;32m    352\u001b[0m         \u001b[0;31m# Add certificate verification\u001b[0m\u001b[0;34m\u001b[0m\u001b[0;34m\u001b[0m\u001b[0;34m\u001b[0m\u001b[0m\n\u001b[0;32m--> 353\u001b[0;31m         \u001b[0mconn\u001b[0m \u001b[0;34m=\u001b[0m \u001b[0mself\u001b[0m\u001b[0;34m.\u001b[0m\u001b[0m_new_conn\u001b[0m\u001b[0;34m(\u001b[0m\u001b[0;34m)\u001b[0m\u001b[0;34m\u001b[0m\u001b[0;34m\u001b[0m\u001b[0m\n\u001b[0m\u001b[1;32m    354\u001b[0m         \u001b[0mhostname\u001b[0m \u001b[0;34m=\u001b[0m \u001b[0mself\u001b[0m\u001b[0;34m.\u001b[0m\u001b[0mhost\u001b[0m\u001b[0;34m\u001b[0m\u001b[0;34m\u001b[0m\u001b[0m\n\u001b[1;32m    355\u001b[0m         \u001b[0mtls_in_tls\u001b[0m \u001b[0;34m=\u001b[0m \u001b[0;32mFalse\u001b[0m\u001b[0;34m\u001b[0m\u001b[0;34m\u001b[0m\u001b[0m\n",
      "\u001b[0;32m~/opt/miniconda3/envs/double-jig-gen-dev/lib/python3.8/site-packages/urllib3/connection.py\u001b[0m in \u001b[0;36m_new_conn\u001b[0;34m(self)\u001b[0m\n\u001b[1;32m    167\u001b[0m \u001b[0;34m\u001b[0m\u001b[0m\n\u001b[1;32m    168\u001b[0m         \u001b[0;32mtry\u001b[0m\u001b[0;34m:\u001b[0m\u001b[0;34m\u001b[0m\u001b[0;34m\u001b[0m\u001b[0m\n\u001b[0;32m--> 169\u001b[0;31m             conn = connection.create_connection(\n\u001b[0m\u001b[1;32m    170\u001b[0m                 \u001b[0;34m(\u001b[0m\u001b[0mself\u001b[0m\u001b[0;34m.\u001b[0m\u001b[0m_dns_host\u001b[0m\u001b[0;34m,\u001b[0m \u001b[0mself\u001b[0m\u001b[0;34m.\u001b[0m\u001b[0mport\u001b[0m\u001b[0;34m)\u001b[0m\u001b[0;34m,\u001b[0m \u001b[0mself\u001b[0m\u001b[0;34m.\u001b[0m\u001b[0mtimeout\u001b[0m\u001b[0;34m,\u001b[0m \u001b[0;34m**\u001b[0m\u001b[0mextra_kw\u001b[0m\u001b[0;34m\u001b[0m\u001b[0;34m\u001b[0m\u001b[0m\n\u001b[1;32m    171\u001b[0m             )\n",
      "\u001b[0;32m~/opt/miniconda3/envs/double-jig-gen-dev/lib/python3.8/site-packages/urllib3/util/connection.py\u001b[0m in \u001b[0;36mcreate_connection\u001b[0;34m(address, timeout, source_address, socket_options)\u001b[0m\n\u001b[1;32m     84\u001b[0m             \u001b[0;32mif\u001b[0m \u001b[0msource_address\u001b[0m\u001b[0;34m:\u001b[0m\u001b[0;34m\u001b[0m\u001b[0;34m\u001b[0m\u001b[0m\n\u001b[1;32m     85\u001b[0m                 \u001b[0msock\u001b[0m\u001b[0;34m.\u001b[0m\u001b[0mbind\u001b[0m\u001b[0;34m(\u001b[0m\u001b[0msource_address\u001b[0m\u001b[0;34m)\u001b[0m\u001b[0;34m\u001b[0m\u001b[0;34m\u001b[0m\u001b[0m\n\u001b[0;32m---> 86\u001b[0;31m             \u001b[0msock\u001b[0m\u001b[0;34m.\u001b[0m\u001b[0mconnect\u001b[0m\u001b[0;34m(\u001b[0m\u001b[0msa\u001b[0m\u001b[0;34m)\u001b[0m\u001b[0;34m\u001b[0m\u001b[0;34m\u001b[0m\u001b[0m\n\u001b[0m\u001b[1;32m     87\u001b[0m             \u001b[0;32mreturn\u001b[0m \u001b[0msock\u001b[0m\u001b[0;34m\u001b[0m\u001b[0;34m\u001b[0m\u001b[0m\n\u001b[1;32m     88\u001b[0m \u001b[0;34m\u001b[0m\u001b[0m\n",
      "\u001b[0;31mKeyboardInterrupt\u001b[0m: "
     ]
    }
   ],
   "source": [
    "for tune_nr in tqdm(range(1, max_tunes+1)):\n",
    "    path = basepath / Path(f\"{tune_nr:06}.abc\")\n",
    "    # this format *normally* returns a page which contains all tunes, but doesn't always\n",
    "#     url = f\"https://thesession.org/tunes/{tune_nr}/abc/1000\"\n",
    "    url = f\"https://thesession.org/tunes/{tune_nr}\"\n",
    "    page = requests.get(url, allow_redirects=True)\n",
    "    soup = BeautifulSoup(page.content, \"html.parser\")\n",
    "    level1_headings = soup.h1\n",
    "    if level1_headings is None:\n",
    "        level1_headings_contents = []\n",
    "    else:\n",
    "        level1_headings_contents = level1_headings.contents\n",
    "    if not any(code in level1_headings_contents for code in ['404', '410']):\n",
    "        with open(path, \"w\") as file_handle:\n",
    "#             file_handle.write(page.text)  # if using */abc/1000 url, this worked\n",
    "            tune_tags = soup.find_all(\"div\", {\"class\": \"notes\"})\n",
    "            text = \"\\n\\n\".join(\n",
    "                \"\".join(\n",
    "                    tune_string.replace(\"\\r\", \"\\n\") for tune_string in tag.strings\n",
    "                ).replace(\"\\n\\n\", \"\\n\").strip()\n",
    "                for tag in tune_tags\n",
    "            )\n",
    "            file_handle.write(text)\n",
    "        time.sleep(wait_time)"
   ]
  },
  {
   "cell_type": "code",
   "execution_count": 6,
   "id": "14dd1173",
   "metadata": {},
   "outputs": [
    {
     "name": "stdout",
     "output_type": "stream",
     "text": [
      "000001.abc\n",
      "000002.abc\n",
      "000003.abc\n",
      "000004.abc\n",
      "000005.abc\n",
      "000006.abc\n",
      "000007.abc\n",
      "000008.abc\n",
      "000009.abc\n",
      "000010.abc\n"
     ]
    }
   ],
   "source": [
    "!ls {basepath} | head"
   ]
  },
  {
   "cell_type": "code",
   "execution_count": 7,
   "id": "d6919e5b",
   "metadata": {},
   "outputs": [],
   "source": [
    "path = Path(\"data\", \"raw\", \"thesession.org\")"
   ]
  },
  {
   "cell_type": "code",
   "execution_count": 8,
   "id": "f388522b",
   "metadata": {},
   "outputs": [],
   "source": [
    "tune_numbers = [\n",
    "    int(abc_file.stem)\n",
    "    for abc_file in [\n",
    "        filepath for filepath in path.iterdir() if filepath.suffix == \".abc\"\n",
    "    ]\n",
    "]"
   ]
  },
  {
   "cell_type": "code",
   "execution_count": 9,
   "id": "8be2b26a",
   "metadata": {},
   "outputs": [
    {
     "data": {
      "text/plain": [
       "1313"
      ]
     },
     "execution_count": 9,
     "metadata": {},
     "output_type": "execute_result"
    }
   ],
   "source": [
    "len(tune_numbers)"
   ]
  },
  {
   "cell_type": "code",
   "execution_count": 10,
   "id": "01e1a86b",
   "metadata": {},
   "outputs": [
    {
     "data": {
      "text/plain": [
       "1387"
      ]
     },
     "execution_count": 10,
     "metadata": {},
     "output_type": "execute_result"
    }
   ],
   "source": [
    "max(tune_numbers)"
   ]
  },
  {
   "cell_type": "code",
   "execution_count": 11,
   "id": "5ca6e1d5",
   "metadata": {},
   "outputs": [
    {
     "data": {
      "text/plain": [
       "74"
      ]
     },
     "execution_count": 11,
     "metadata": {},
     "output_type": "execute_result"
    }
   ],
   "source": [
    "missing_tunes = list(\n",
    "    set(range(1, max(tune_numbers)+1)).difference(tune_numbers)\n",
    ")\n",
    "len(missing_tunes)"
   ]
  },
  {
   "cell_type": "code",
   "execution_count": 13,
   "id": "b7675f3b",
   "metadata": {},
   "outputs": [
    {
     "name": "stdout",
     "output_type": "stream",
     "text": [
      "https://thesession.org/tunes/519\n",
      "https://thesession.org/tunes/525\n",
      "https://thesession.org/tunes/1041\n",
      "https://thesession.org/tunes/530\n",
      "https://thesession.org/tunes/1046\n",
      "https://thesession.org/tunes/25\n",
      "https://thesession.org/tunes/1071\n",
      "https://thesession.org/tunes/567\n",
      "https://thesession.org/tunes/588\n",
      "https://thesession.org/tunes/599\n"
     ]
    }
   ],
   "source": [
    "for tune_nr in missing_tunes[:10]:\n",
    "    url = f\"https://thesession.org/tunes/{tune_nr}\"\n",
    "    print(url)\n",
    "    page = requests.get(url)\n",
    "    soup = BeautifulSoup(page.content, \"html.parser\")"
   ]
  },
  {
   "cell_type": "code",
   "execution_count": 14,
   "id": "f4f3107a",
   "metadata": {},
   "outputs": [
    {
     "data": {
      "application/vnd.jupyter.widget-view+json": {
       "model_id": "0250f7235ea44eb4bc8b74719dc96fc6",
       "version_major": 2,
       "version_minor": 0
      },
      "text/plain": [
       "  0%|          | 0/1313 [00:00<?, ?it/s]"
      ]
     },
     "metadata": {},
     "output_type": "display_data"
    }
   ],
   "source": [
    "issue_tunes = {}\n",
    "for abc_file in tqdm([filepath for filepath in path.iterdir() if filepath.suffix == \".abc\"]):\n",
    "    tune_number = int(abc_file.stem)\n",
    "    with open(abc_file, \"r\") as fh:\n",
    "        file_content = fh.read().strip()\n",
    "        if file_content.startswith(\"<\"):\n",
    "            issue_tunes[tune_number] = file_content"
   ]
  },
  {
   "cell_type": "code",
   "execution_count": 15,
   "id": "476aae16",
   "metadata": {},
   "outputs": [
    {
     "data": {
      "text/plain": [
       "0"
      ]
     },
     "execution_count": 15,
     "metadata": {},
     "output_type": "execute_result"
    }
   ],
   "source": [
    "len(issue_tunes)"
   ]
  },
  {
   "cell_type": "code",
   "execution_count": 16,
   "id": "1f9332b1",
   "metadata": {},
   "outputs": [],
   "source": [
    "for tune_nr, html in issue_tunes.items():\n",
    "    print(f\"https://thesession.org/tunes/{tune_nr}\")\n",
    "    print(html)\n",
    "    with open(f\"test_{tune_nr}.html\", \"w\") as fh:\n",
    "        fh.write(html)\n",
    "    break"
   ]
  },
  {
   "cell_type": "code",
   "execution_count": 18,
   "id": "28d7afb0",
   "metadata": {},
   "outputs": [
    {
     "data": {
      "application/vnd.jupyter.widget-view+json": {
       "model_id": "86c7eae613094a0a9f49385d0b4daa1b",
       "version_major": 2,
       "version_minor": 0
      },
      "text/plain": [
       "  0%|          | 0/1313 [00:00<?, ?it/s]"
      ]
     },
     "metadata": {},
     "output_type": "display_data"
    }
   ],
   "source": [
    "abc_tunes = {}\n",
    "issue_tunes = {}\n",
    "for abc_file in tqdm([filepath for filepath in basepath.iterdir() if filepath.suffix == \".abc\"]):\n",
    "    tune_number = int(abc_file.stem)\n",
    "    with open(abc_file, \"r\") as fh:\n",
    "        file_content = fh.read().strip()\n",
    "        if file_content.startswith(\"<\"):\n",
    "            issue_tunes[tune_number] = file_content\n",
    "        else:\n",
    "            tunes = {\n",
    "                (tune_number, setting_number + 1): tune.strip()\n",
    "                for setting_number, tune\n",
    "                in enumerate(file_content.split(\"\\n\\n\"))\n",
    "            }\n",
    "    abc_tunes.update(tunes)"
   ]
  },
  {
   "cell_type": "code",
   "execution_count": 21,
   "id": "5512ab57",
   "metadata": {},
   "outputs": [
    {
     "data": {
      "text/html": [
       "<div>\n",
       "<style scoped>\n",
       "    .dataframe tbody tr th:only-of-type {\n",
       "        vertical-align: middle;\n",
       "    }\n",
       "\n",
       "    .dataframe tbody tr th {\n",
       "        vertical-align: top;\n",
       "    }\n",
       "\n",
       "    .dataframe thead th {\n",
       "        text-align: right;\n",
       "    }\n",
       "</style>\n",
       "<table border=\"1\" class=\"dataframe\">\n",
       "  <thead>\n",
       "    <tr style=\"text-align: right;\">\n",
       "      <th></th>\n",
       "      <th></th>\n",
       "      <th>tune_str</th>\n",
       "    </tr>\n",
       "    <tr>\n",
       "      <th>tune_number</th>\n",
       "      <th>setting_number</th>\n",
       "      <th></th>\n",
       "    </tr>\n",
       "  </thead>\n",
       "  <tbody>\n",
       "    <tr>\n",
       "      <th rowspan=\"5\" valign=\"top\">1</th>\n",
       "      <th>1</th>\n",
       "      <td>X: 1\\nT: Cooley's\\nR: reel\\nM: 4/4\\nL: 1/8\\nK:...</td>\n",
       "    </tr>\n",
       "    <tr>\n",
       "      <th>2</th>\n",
       "      <td>X: 2\\nT: Cooley's\\nR: reel\\nM: 4/4\\nL: 1/8\\nK:...</td>\n",
       "    </tr>\n",
       "    <tr>\n",
       "      <th>3</th>\n",
       "      <td>X: 3\\nT: Cooley's\\nR: reel\\nM: 4/4\\nL: 1/8\\nK:...</td>\n",
       "    </tr>\n",
       "    <tr>\n",
       "      <th>4</th>\n",
       "      <td>X: 4\\nT: Cooley's\\nR: reel\\nM: 4/4\\nL: 1/8\\nK:...</td>\n",
       "    </tr>\n",
       "    <tr>\n",
       "      <th>5</th>\n",
       "      <td>X: 5\\nT: Cooley's\\nR: reel\\nM: 4/4\\nL: 1/8\\nK:...</td>\n",
       "    </tr>\n",
       "    <tr>\n",
       "      <th>...</th>\n",
       "      <th>...</th>\n",
       "      <td>...</td>\n",
       "    </tr>\n",
       "    <tr>\n",
       "      <th rowspan=\"5\" valign=\"top\">1387</th>\n",
       "      <th>6</th>\n",
       "      <td>X: 6\\nT: Monymusk\\nR: reel\\nM: 4/4\\nL: 1/8\\nK:...</td>\n",
       "    </tr>\n",
       "    <tr>\n",
       "      <th>7</th>\n",
       "      <td>X: 7\\nT: Monymusk\\nR: reel\\nM: 4/4\\nL: 1/8\\nK:...</td>\n",
       "    </tr>\n",
       "    <tr>\n",
       "      <th>8</th>\n",
       "      <td>X: 8\\nT: Monymusk\\nR: reel\\nM: 4/4\\nL: 1/8\\nK:...</td>\n",
       "    </tr>\n",
       "    <tr>\n",
       "      <th>9</th>\n",
       "      <td>X: 9\\nT: Monymusk\\nR: reel\\nM: 4/4\\nL: 1/8\\nK:...</td>\n",
       "    </tr>\n",
       "    <tr>\n",
       "      <th>10</th>\n",
       "      <td>X: 10\\nT: Monymusk\\nR: reel\\nM: 4/4\\nL: 1/8\\nK...</td>\n",
       "    </tr>\n",
       "  </tbody>\n",
       "</table>\n",
       "<p>7999 rows × 1 columns</p>\n",
       "</div>"
      ],
      "text/plain": [
       "                                                                     tune_str\n",
       "tune_number setting_number                                                   \n",
       "1           1               X: 1\\nT: Cooley's\\nR: reel\\nM: 4/4\\nL: 1/8\\nK:...\n",
       "            2               X: 2\\nT: Cooley's\\nR: reel\\nM: 4/4\\nL: 1/8\\nK:...\n",
       "            3               X: 3\\nT: Cooley's\\nR: reel\\nM: 4/4\\nL: 1/8\\nK:...\n",
       "            4               X: 4\\nT: Cooley's\\nR: reel\\nM: 4/4\\nL: 1/8\\nK:...\n",
       "            5               X: 5\\nT: Cooley's\\nR: reel\\nM: 4/4\\nL: 1/8\\nK:...\n",
       "...                                                                       ...\n",
       "1387        6               X: 6\\nT: Monymusk\\nR: reel\\nM: 4/4\\nL: 1/8\\nK:...\n",
       "            7               X: 7\\nT: Monymusk\\nR: reel\\nM: 4/4\\nL: 1/8\\nK:...\n",
       "            8               X: 8\\nT: Monymusk\\nR: reel\\nM: 4/4\\nL: 1/8\\nK:...\n",
       "            9               X: 9\\nT: Monymusk\\nR: reel\\nM: 4/4\\nL: 1/8\\nK:...\n",
       "            10              X: 10\\nT: Monymusk\\nR: reel\\nM: 4/4\\nL: 1/8\\nK...\n",
       "\n",
       "[7999 rows x 1 columns]"
      ]
     },
     "execution_count": 21,
     "metadata": {},
     "output_type": "execute_result"
    }
   ],
   "source": [
    "tunes_df = pd.DataFrame(\n",
    "    abc_tunes.values(),\n",
    "    index=pd.MultiIndex.from_tuples(\n",
    "        abc_tunes.keys(), names=[\"tune_number\", \"setting_number\"]\n",
    "    ),\n",
    "    columns=[\"tune_str\"],\n",
    ").sort_index()\n",
    "tunes_df"
   ]
  },
  {
   "cell_type": "code",
   "execution_count": 22,
   "id": "169f8798",
   "metadata": {},
   "outputs": [],
   "source": [
    "outdir = Path(\"data\", \"working\", \"thesession.org\")\n",
    "outdir.mkdir(exist_ok=True, parents=True)\n",
    "tunes_df.to_csv(outdir / Path(\"all_tunes.csv\"))"
   ]
  },
  {
   "cell_type": "code",
   "execution_count": 23,
   "id": "9bf847aa",
   "metadata": {},
   "outputs": [],
   "source": [
    "with open(outdir / Path(\"all_tunes.abc\"), \"w\") as fh:\n",
    "    fh.write(\"\\n\\n\".join(tunes_df[\"tune_str\"].squeeze()))"
   ]
  },
  {
   "cell_type": "markdown",
   "id": "5c681048",
   "metadata": {},
   "source": [
    "# Appendix"
   ]
  },
  {
   "cell_type": "code",
   "execution_count": 167,
   "id": "d70ad0ab",
   "metadata": {},
   "outputs": [
    {
     "name": "stdout",
     "output_type": "stream",
     "text": [
      "http://thesession.org/tunes/218\n"
     ]
    }
   ],
   "source": [
    "tune_nr = 218\n",
    "url = f\"http://thesession.org/tunes/{tune_nr}\"\n",
    "print(url)\n",
    "page = requests.get(url, allow_redirects=True)"
   ]
  },
  {
   "cell_type": "code",
   "execution_count": 168,
   "id": "f9de526f",
   "metadata": {
    "tags": []
   },
   "outputs": [
    {
     "name": "stdout",
     "output_type": "stream",
     "text": [
      "X: 1\n",
      "T: Mairtin O'Connor's Flying Clog\n",
      "R: reel\n",
      "M: 4/4\n",
      "L: 1/8\n",
      "K: Gmaj\n",
      "|:G2 (3GGG dGBd|eGce dBAB|G2 (3GGG BGAB|cE (3EEE GEDE|\n",
      "|G2 (3GGG dBGd|eGce dBAB|cE (3EEE GECE|1 DFAc BcAB:|2 DFAc BGGA||\n",
      "|:Bd (3ddd edgd|edgd egdc|Bd (3ddd edgd|eaag fedc|\n",
      "|BcdB ~c3 E|(3EEE cE DGBG|cE (3EEE GECE|1 DFAc BGGA:|2 DFAc BcAB||\n",
      "\n",
      "X: 2\n",
      "T: Mairtin O'Connor's Flying Clog\n",
      "R: reel\n",
      "M: 4/4\n",
      "L: 1/8\n",
      "K: Fmaj\n",
      "|:F2 (3FFF cFAc|dFBd cAGA|F2 (3FFF AFGA|BD (3DDD FDCD|\n",
      "|F2 (3FFF cFAc|dFBd cAGA|BD (3DDD FDB,D|1 CEGB ABGA:|2 CEGB AFFG||\n",
      "|:Ac (3ccc dcfc|dcfc dfcB|Ac (3ccc dcfc|dggf edcB|\n",
      "|ABcA ~B3 D|(3DDD BD CFAF|BD (3DDD FDB,D|1 CEGB AFFG:|2 CEGB ABGA||\n",
      "\n",
      "X: 3\n",
      "T: Mairtin O'Connor's Flying Clog\n",
      "R: reel\n",
      "M: 4/4\n",
      "L: 1/8\n",
      "K: Gmaj\n",
      "|: G,2 G,/G,/G, DG,B,D | EG,CE DB,A,B, | G,2 G,/G,/G, B,G,A,B, | \"D\" C \"U\" E, \"D\" E,/E,/E, G,E,D,E, |\n",
      "G,2 G,/G,/G, DG,B,D | EG,CE DB,A,B, | \"U\" C \"D\" E, \"D\" E,/E,/E, G,E,D,E, |1 D,F,A,D B,DA,B, :|\n",
      "|: B,D D/D/D EDGD | ED GD EG DC | B,D D/D/D EDGD | EAAG FEDC | \n",
      "B,CDB, B,CCE, | E,/E,/E, CE, D,D,B,D, | CE, E,/E,/E, G,E,D,E, |1 D,F,A,D B,G,G,A, :|\n",
      "|: G2 G/G/G dGBd | eGce dBAB | G2 G/G/G BGAB | cE E/E/E GEDE | \n",
      "G2 G/G/G dGBd | eGce dBAB | cE E/E/E GEDE |1 DFAd BdAB :|\n",
      "|: Bd d/d/d edgd | edgd egdc | Bd d/d/d edgd | eaag fedc | \n",
      "BcdB BccE | E/E/E cE DDBD | cE E/E/E GEDE |1 DFAd BGGA :|\n",
      "\n",
      "X: 4\n",
      "T: Mairtin O'Connor's Flying Clog\n",
      "R: reel\n",
      "M: 4/4\n",
      "L: 1/8\n",
      "K: Dmaj\n",
      "|: D2 D/D/D ADFA | BDGB AFEF | D2 D/D/D FDEF | \"A\"G\"U\"B, \"A\"B,/B,/B, DB,A,B, | \n",
      "D2 D/D/D ADFA | BDGB AFEF | \"U\"G\"A\"B, \"A\"B,/B,/B, DB,A,B, |1 A,CEA FAEF :|\n",
      "|: FA A/A/A BAdA | BAdA BdAG | FA A/A/A BAdA | Beed cBAG | \n",
      "FGAF FGGB, | B,/B,/B, GB, A,A,FA, | GB, B,/B,/B, DB,A,B, |1 A,CEA FDDE :|\n",
      "\n",
      "X: 5\n",
      "T: Mairtin O'Connor's Flying Clog\n",
      "R: reel\n",
      "M: 4/4\n",
      "L: 1/8\n",
      "K: Gmaj\n",
      "G2 (3GGG d>GB>d | e>Gc>e d>BA>B | G2 (3GGG B>GA>B | c>E (3EEE G>E (3DEF | \n",
      "G2 G>B d>G (3Bcd | e>Gc>e d2 (3cBA | c>E (3EEE G>E (3EEE | D>FA>d B>d :|\n",
      "G>d (3ddd e>d (3ddd | e>dg>d e>gd>c | B>d (3ddd e>d g2 | e>aa>g (3fed c>A | \n",
      "(3Bcd G>B B>c (3ccA | (3EEE c>E D>GB>G | c>E (3EEE G>E (3EEE | D>FA>d B>d :|\n",
      "\n",
      "X: 6\n",
      "T: Mairtin O'Connor's Flying Clog\n",
      "R: reel\n",
      "M: 4/4\n",
      "L: 1/8\n",
      "K: Gmaj\n",
      "G2 GB dGBd | eGce dBAB | G2 Gd BGAB | cE E2 GEDF | \n",
      "G2 GB dGBd | eGce d2 cA | cE E2 GEDE | DFAd BG :|\n",
      "Gd d2 edgd | edgd egdc | Bd d2 edgd | eaag fdcA | \n",
      "BcdB BccA | E2 cE DGBG | cE E2 GEDE | DFAd BG :|\n",
      "\n",
      "X: 7\n",
      "T: Mairtin O'Connor's Flying Clog\n",
      "R: reel\n",
      "M: 4/4\n",
      "L: 1/8\n",
      "K: Gmaj\n",
      "|:G3B dGBd|eGce dcBA|FG3 BGAB|cE3 GEDE|\n",
      "G2eG dGBd|edce dcAB|cE3 GECE|1 DFAc BGAF:|2 DFAc BGGA||\n",
      "|:Bd3 edgd|edgd egdc|Bd3 edgd|eaag fedc|\n",
      "BcdB c3E|E2cE D2BD|cE3 GECE|1 DFAc BGGA:|2 DFAc BGGF||\n",
      "\n",
      "X: 8\n",
      "T: Mairtin O'Connor's Flying Clog\n",
      "R: reel\n",
      "M: 4/4\n",
      "L: 1/8\n",
      "K: Gmaj\n",
      "|:G2 (3GGG dGBd|(cBc)e dBAB|G2 (3GGG BGAB|(cE) (3EEE GEDE|\n",
      "|G2 (3GGG dGBd|(cBc)e dBAB|(cE) (3EEE GECE|1 DFAc BcAB:|2 DFAc BGGA||\n",
      "|:(Bd) (3ddd edgd|edgd egdc|(Bd) (3ddd edgd|eaag fedc|\n",
      "|BcdB ~c3 E|(3EEE (cE) DGBG|(cE) (3EEE GECE|1 DFAc BGGA:|2 DFAc BcAB||\n"
     ]
    }
   ],
   "source": [
    "page.text\n",
    "soup = BeautifulSoup(page.content, \"html.parser\")\n",
    "tune_tags = soup.find_all(\"div\", {\"class\": \"notes\"})\n",
    "tune_strings = \"\\n\\n\".join(\n",
    "    \"\".join([s.replace(\"\\r\", \"\\n\") for s in tag.strings]).replace(\"\\n\\n\", \"\\n\").strip()\n",
    "    for tag in tune_tags\n",
    ")\n",
    "print(tune_strings)"
   ]
  },
  {
   "cell_type": "code",
   "execution_count": null,
   "id": "0ddf70e7",
   "metadata": {},
   "outputs": [],
   "source": []
  }
 ],
 "metadata": {
  "kernelspec": {
   "display_name": "Python 3 (ipykernel)",
   "language": "python",
   "name": "python3"
  },
  "language_info": {
   "codemirror_mode": {
    "name": "ipython",
    "version": 3
   },
   "file_extension": ".py",
   "mimetype": "text/x-python",
   "name": "python",
   "nbconvert_exporter": "python",
   "pygments_lexer": "ipython3",
   "version": "3.8.11"
  }
 },
 "nbformat": 4,
 "nbformat_minor": 5
}
